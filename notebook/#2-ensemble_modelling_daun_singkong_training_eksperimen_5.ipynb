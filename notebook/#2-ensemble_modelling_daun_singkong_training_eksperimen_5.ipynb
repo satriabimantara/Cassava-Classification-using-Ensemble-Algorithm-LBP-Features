{
 "cells": [
  {
   "cell_type": "markdown",
   "id": "3cf1bc7f",
   "metadata": {},
   "source": [
    "# Introduction\n",
    "***\n",
    "Notebook **#2-ensemble_modelling_daun_singkong_eksperimen_5** berisi implementasi dari: <br>\n",
    "- Mengecek performa bagging dari setiap single classifier (SVM, LogReg, Naive Bayes, Decision Tree) dengan ground truth.\n",
    "<hr>\n",
    "- semisal:\n",
    "- Ground truth data training: y_train\n",
    "- SVM Model Fold 1: Pred1\n",
    "- SVM Model Fold 2: Pred 2\n",
    "- SVM Model Fold 3: Pred 3\n",
    "- SVM Model Fold 4: Pred 4\n",
    "- SVM Model Fold 5: Pred 5\n",
    "- Voting SVM Model Fold 1, …, 5: Vote_SVM <br>\n",
    "Lalu dibandingkan performanya dengan ground truth: accuracy_score(y_train, vote_svm)\n"
   ]
  },
  {
   "cell_type": "markdown",
   "id": "16886a07",
   "metadata": {},
   "source": [
    "# Import Libraries"
   ]
  },
  {
   "cell_type": "code",
   "execution_count": 1,
   "id": "938be0f2",
   "metadata": {},
   "outputs": [],
   "source": [
    "import pandas as pd\n",
    "import numpy as np\n",
    "\n",
    "# sklearn for utilization\n",
    "from sklearn.metrics import accuracy_score, classification_report, confusion_matrix, ConfusionMatrixDisplay\n",
    "from sklearn.metrics import recall_score, precision_score, fbeta_score\n",
    "from sklearn.model_selection import StratifiedKFold\n",
    "\n",
    "# modelling for ensemble method\n",
    "from sklearn.naive_bayes import MultinomialNB\n",
    "from sklearn.tree import DecisionTreeClassifier\n",
    "from sklearn.svm import SVC\n",
    "from sklearn.linear_model import LogisticRegression\n",
    "from sklearn.neural_network import MLPClassifier\n",
    "\n",
    "# visualization purpose\n",
    "import matplotlib.pyplot as plt\n",
    "\n",
    "# utils\n",
    "import pickle\n",
    "\n",
    "#\n",
    "from models.model_ensembles import EnsembleStacking"
   ]
  },
  {
   "cell_type": "markdown",
   "id": "eaaa805d",
   "metadata": {},
   "source": [
    "# Load Data After Preprocessing"
   ]
  },
  {
   "cell_type": "code",
   "execution_count": 2,
   "id": "4dd7a660",
   "metadata": {},
   "outputs": [],
   "source": [
    "dataset_daun_singkong_after_preprocessing = pickle.load(open('../dataset/data_daun_singkong_after_preprocessing.pkl', 'rb'))\n",
    "X_train = dataset_daun_singkong_after_preprocessing['training']['X']\n",
    "y_train = dataset_daun_singkong_after_preprocessing['training']['y']\n",
    "X_test = dataset_daun_singkong_after_preprocessing['testing']['X']\n",
    "y_test = dataset_daun_singkong_after_preprocessing['testing']['y']"
   ]
  },
  {
   "cell_type": "code",
   "execution_count": 3,
   "id": "b1cb3af7",
   "metadata": {},
   "outputs": [],
   "source": [
    "# sampling data\n",
    "# X_train = X_train[:5000]\n",
    "# X_test = X_test[:5000]\n",
    "# y_train = y_train[:5000]\n",
    "# y_test = y_train[:5000]"
   ]
  },
  {
   "cell_type": "markdown",
   "id": "32c0772a",
   "metadata": {},
   "source": [
    "# Defining Global Variables "
   ]
  },
  {
   "cell_type": "code",
   "execution_count": 4,
   "id": "1da3f3e4",
   "metadata": {},
   "outputs": [],
   "source": [
    "kfold = StratifiedKFold(n_splits=5, random_state=45, shuffle=True)\n",
    "\n",
    "# global variables for MLP\n",
    "max_iter=400 \n",
    "batch_size=32 \n",
    "verbose=0\n",
    "n_iter_no_change=20"
   ]
  },
  {
   "cell_type": "markdown",
   "id": "6eccdc39",
   "metadata": {},
   "source": [
    "# Defining Global Functions"
   ]
  },
  {
   "cell_type": "code",
   "execution_count": 5,
   "id": "be4148a8",
   "metadata": {},
   "outputs": [],
   "source": [
    "def create_new_input_features(ensemble_classifiers, X, y):\n",
    "    all_predicted_results = dict()\n",
    "    list_of_majority_voting_each_models = list()\n",
    "    list_of_models = list()\n",
    "\n",
    "    for model_name, models in ensemble_classifiers.items():\n",
    "        print(\"\\t\\t\\t\", model_name.upper())\n",
    "\n",
    "        # voting scenario for new data input prepration for ANN model\n",
    "        if len(models)!=0:\n",
    "            all_predicted_results[model_name] = dict()\n",
    "            for sub_model_name, dict_models in models.items():\n",
    "                all_predicted_results[model_name][sub_model_name] = dict_models['train'].predict(X)\n",
    "\n",
    "            # make dataframe for 5 model prediction results without vote mechanism\n",
    "            model_df_voting = pd.DataFrame(all_predicted_results[model_name]).mode(axis=1)[0]\n",
    "            list_of_models.append('majority_vote_from_'+model_name)\n",
    "            list_of_majority_voting_each_models.append(model_df_voting)\n",
    "            \n",
    "    new_input_features = pd.concat(list_of_majority_voting_each_models, axis=1)\n",
    "    new_input_features.columns = list_of_models\n",
    "    new_input_features['ground_truth'] = y.copy()\n",
    "            \n",
    "    return new_input_features"
   ]
  },
  {
   "cell_type": "markdown",
   "id": "033a9ea9",
   "metadata": {},
   "source": [
    "# Modelling Ensemble"
   ]
  },
  {
   "cell_type": "markdown",
   "id": "1aa9d439",
   "metadata": {},
   "source": [
    "## Create Stacking ML Ensemble from 5-fold cross-validation"
   ]
  },
  {
   "cell_type": "code",
   "execution_count": 6,
   "id": "a5cddaaa",
   "metadata": {},
   "outputs": [],
   "source": [
    "ensemble_classifiers = EnsembleStacking(X_train, y_train, X_test, y_test, kfold).train_ensemble()"
   ]
  },
  {
   "cell_type": "code",
   "execution_count": 7,
   "id": "ced8acb9",
   "metadata": {},
   "outputs": [],
   "source": [
    "# create dataframe for easy understanding from ensemble classifiers stacking results\n",
    "ensemble_classifiers_results = list()\n",
    "for model in ensemble_classifiers.keys():\n",
    "    ensemble_classifiers_results.append(pd.DataFrame(ensemble_classifiers[model]).transpose().sort_values(by=['testing'], ascending=False))\n",
    "\n",
    "# concat all dataframe results\n",
    "ensemble_classifiers_results = pd.concat(ensemble_classifiers_results, axis=0)"
   ]
  },
  {
   "cell_type": "code",
   "execution_count": 8,
   "id": "1a526b87",
   "metadata": {},
   "outputs": [
    {
     "data": {
      "text/html": [
       "<div>\n",
       "<style scoped>\n",
       "    .dataframe tbody tr th:only-of-type {\n",
       "        vertical-align: middle;\n",
       "    }\n",
       "\n",
       "    .dataframe tbody tr th {\n",
       "        vertical-align: top;\n",
       "    }\n",
       "\n",
       "    .dataframe thead th {\n",
       "        text-align: right;\n",
       "    }\n",
       "</style>\n",
       "<table border=\"1\" class=\"dataframe\">\n",
       "  <thead>\n",
       "    <tr style=\"text-align: right;\">\n",
       "      <th></th>\n",
       "      <th>train</th>\n",
       "      <th>training</th>\n",
       "      <th>validation</th>\n",
       "      <th>testing</th>\n",
       "    </tr>\n",
       "  </thead>\n",
       "  <tbody>\n",
       "    <tr>\n",
       "      <th>model-5</th>\n",
       "      <td>SVC()</td>\n",
       "      <td>0.625939</td>\n",
       "      <td>0.622371</td>\n",
       "      <td>0.625389</td>\n",
       "    </tr>\n",
       "    <tr>\n",
       "      <th>model-4</th>\n",
       "      <td>SVC()</td>\n",
       "      <td>0.626022</td>\n",
       "      <td>0.624374</td>\n",
       "      <td>0.625078</td>\n",
       "    </tr>\n",
       "    <tr>\n",
       "      <th>model-3</th>\n",
       "      <td>SVC()</td>\n",
       "      <td>0.625104</td>\n",
       "      <td>0.622705</td>\n",
       "      <td>0.624455</td>\n",
       "    </tr>\n",
       "    <tr>\n",
       "      <th>model-1</th>\n",
       "      <td>SVC()</td>\n",
       "      <td>0.624238</td>\n",
       "      <td>0.622497</td>\n",
       "      <td>0.623209</td>\n",
       "    </tr>\n",
       "    <tr>\n",
       "      <th>model-2</th>\n",
       "      <td>SVC()</td>\n",
       "      <td>0.623237</td>\n",
       "      <td>0.624499</td>\n",
       "      <td>0.622897</td>\n",
       "    </tr>\n",
       "    <tr>\n",
       "      <th>model-4</th>\n",
       "      <td>LogisticRegression(solver='newton-cg')</td>\n",
       "      <td>0.625438</td>\n",
       "      <td>0.626377</td>\n",
       "      <td>0.625545</td>\n",
       "    </tr>\n",
       "    <tr>\n",
       "      <th>model-3</th>\n",
       "      <td>LogisticRegression(solver='newton-cg')</td>\n",
       "      <td>0.625772</td>\n",
       "      <td>0.62571</td>\n",
       "      <td>0.624766</td>\n",
       "    </tr>\n",
       "    <tr>\n",
       "      <th>model-5</th>\n",
       "      <td>LogisticRegression(solver='newton-cg')</td>\n",
       "      <td>0.626273</td>\n",
       "      <td>0.624708</td>\n",
       "      <td>0.624455</td>\n",
       "    </tr>\n",
       "    <tr>\n",
       "      <th>model-1</th>\n",
       "      <td>LogisticRegression(solver='newton-cg')</td>\n",
       "      <td>0.626826</td>\n",
       "      <td>0.623164</td>\n",
       "      <td>0.623832</td>\n",
       "    </tr>\n",
       "    <tr>\n",
       "      <th>model-2</th>\n",
       "      <td>LogisticRegression(solver='newton-cg')</td>\n",
       "      <td>0.624405</td>\n",
       "      <td>0.626502</td>\n",
       "      <td>0.623832</td>\n",
       "    </tr>\n",
       "    <tr>\n",
       "      <th>model-1</th>\n",
       "      <td>MultinomialNB()</td>\n",
       "      <td>0.614974</td>\n",
       "      <td>0.61482</td>\n",
       "      <td>0.615109</td>\n",
       "    </tr>\n",
       "    <tr>\n",
       "      <th>model-2</th>\n",
       "      <td>MultinomialNB()</td>\n",
       "      <td>0.614974</td>\n",
       "      <td>0.61482</td>\n",
       "      <td>0.615109</td>\n",
       "    </tr>\n",
       "    <tr>\n",
       "      <th>model-3</th>\n",
       "      <td>MultinomialNB()</td>\n",
       "      <td>0.614922</td>\n",
       "      <td>0.615025</td>\n",
       "      <td>0.615109</td>\n",
       "    </tr>\n",
       "    <tr>\n",
       "      <th>model-4</th>\n",
       "      <td>MultinomialNB()</td>\n",
       "      <td>0.614922</td>\n",
       "      <td>0.615025</td>\n",
       "      <td>0.615109</td>\n",
       "    </tr>\n",
       "    <tr>\n",
       "      <th>model-5</th>\n",
       "      <td>MultinomialNB()</td>\n",
       "      <td>0.614922</td>\n",
       "      <td>0.615025</td>\n",
       "      <td>0.615109</td>\n",
       "    </tr>\n",
       "    <tr>\n",
       "      <th>model-2</th>\n",
       "      <td>DecisionTreeClassifier()</td>\n",
       "      <td>1.0</td>\n",
       "      <td>0.496996</td>\n",
       "      <td>0.503894</td>\n",
       "    </tr>\n",
       "    <tr>\n",
       "      <th>model-4</th>\n",
       "      <td>DecisionTreeClassifier()</td>\n",
       "      <td>1.0</td>\n",
       "      <td>0.496828</td>\n",
       "      <td>0.502336</td>\n",
       "    </tr>\n",
       "    <tr>\n",
       "      <th>model-3</th>\n",
       "      <td>DecisionTreeClassifier()</td>\n",
       "      <td>1.0</td>\n",
       "      <td>0.496828</td>\n",
       "      <td>0.495483</td>\n",
       "    </tr>\n",
       "    <tr>\n",
       "      <th>model-5</th>\n",
       "      <td>DecisionTreeClassifier()</td>\n",
       "      <td>1.0</td>\n",
       "      <td>0.494825</td>\n",
       "      <td>0.492056</td>\n",
       "    </tr>\n",
       "    <tr>\n",
       "      <th>model-1</th>\n",
       "      <td>DecisionTreeClassifier()</td>\n",
       "      <td>1.0</td>\n",
       "      <td>0.503338</td>\n",
       "      <td>0.490187</td>\n",
       "    </tr>\n",
       "  </tbody>\n",
       "</table>\n",
       "</div>"
      ],
      "text/plain": [
       "                                          train  training validation   testing\n",
       "model-5                                   SVC()  0.625939   0.622371  0.625389\n",
       "model-4                                   SVC()  0.626022   0.624374  0.625078\n",
       "model-3                                   SVC()  0.625104   0.622705  0.624455\n",
       "model-1                                   SVC()  0.624238   0.622497  0.623209\n",
       "model-2                                   SVC()  0.623237   0.624499  0.622897\n",
       "model-4  LogisticRegression(solver='newton-cg')  0.625438   0.626377  0.625545\n",
       "model-3  LogisticRegression(solver='newton-cg')  0.625772    0.62571  0.624766\n",
       "model-5  LogisticRegression(solver='newton-cg')  0.626273   0.624708  0.624455\n",
       "model-1  LogisticRegression(solver='newton-cg')  0.626826   0.623164  0.623832\n",
       "model-2  LogisticRegression(solver='newton-cg')  0.624405   0.626502  0.623832\n",
       "model-1                         MultinomialNB()  0.614974    0.61482  0.615109\n",
       "model-2                         MultinomialNB()  0.614974    0.61482  0.615109\n",
       "model-3                         MultinomialNB()  0.614922   0.615025  0.615109\n",
       "model-4                         MultinomialNB()  0.614922   0.615025  0.615109\n",
       "model-5                         MultinomialNB()  0.614922   0.615025  0.615109\n",
       "model-2                DecisionTreeClassifier()       1.0   0.496996  0.503894\n",
       "model-4                DecisionTreeClassifier()       1.0   0.496828  0.502336\n",
       "model-3                DecisionTreeClassifier()       1.0   0.496828  0.495483\n",
       "model-5                DecisionTreeClassifier()       1.0   0.494825  0.492056\n",
       "model-1                DecisionTreeClassifier()       1.0   0.503338  0.490187"
      ]
     },
     "execution_count": 8,
     "metadata": {},
     "output_type": "execute_result"
    }
   ],
   "source": [
    "ensemble_classifiers_results"
   ]
  },
  {
   "cell_type": "markdown",
   "id": "707b5655",
   "metadata": {},
   "source": [
    "## Create new input Training from the stacking ensemble ML"
   ]
  },
  {
   "cell_type": "code",
   "execution_count": 9,
   "id": "fc00735d",
   "metadata": {},
   "outputs": [
    {
     "name": "stdout",
     "output_type": "stream",
     "text": [
      "\t\t\t SVM\n",
      "\t\t\t LOGREG\n",
      "\t\t\t NAIVE_BAYES\n",
      "\t\t\t DECISION_TREE\n"
     ]
    }
   ],
   "source": [
    "new_input_training_features = create_new_input_features(\n",
    "    ensemble_classifiers, \n",
    "    X_train,\n",
    "    y_train\n",
    ")"
   ]
  },
  {
   "cell_type": "markdown",
   "id": "663181ca",
   "metadata": {},
   "source": [
    "# Save Stacking Model Pretrained (MLs)"
   ]
  },
  {
   "cell_type": "code",
   "execution_count": 10,
   "id": "f75f97c3",
   "metadata": {},
   "outputs": [],
   "source": [
    "# save trained ensemble stacking classifiers\n",
    "model_ensemble_experiment_5 = {\n",
    "    'stacking_ensembles': ensemble_classifiers,\n",
    "    'data': {\n",
    "        'training': {\n",
    "            'X': X_train,\n",
    "            'y': y_train\n",
    "        },\n",
    "        'testing': {\n",
    "            'X': X_test,\n",
    "            'y': y_test\n",
    "        }\n",
    "    }\n",
    "}\n",
    "pickle.dump(model_ensemble_experiment_5, open(\"model_ensemble_experiment_results/model_ensemble_eksperimen_5.pkl\", 'wb'))"
   ]
  },
  {
   "cell_type": "code",
   "execution_count": null,
   "id": "905e9371",
   "metadata": {},
   "outputs": [],
   "source": []
  }
 ],
 "metadata": {
  "kernelspec": {
   "display_name": "S2_computational_intelligence_ensemble_daun_singkong",
   "language": "python",
   "name": "s2_computational_intelligence_ensemble_daun_singkong"
  },
  "language_info": {
   "codemirror_mode": {
    "name": "ipython",
    "version": 3
   },
   "file_extension": ".py",
   "mimetype": "text/x-python",
   "name": "python",
   "nbconvert_exporter": "python",
   "pygments_lexer": "ipython3",
   "version": "3.10.4"
  },
  "toc": {
   "base_numbering": 1,
   "nav_menu": {},
   "number_sections": true,
   "sideBar": true,
   "skip_h1_title": false,
   "title_cell": "Table of Contents",
   "title_sidebar": "Contents",
   "toc_cell": false,
   "toc_position": {
    "height": "calc(100% - 180px)",
    "left": "10px",
    "top": "150px",
    "width": "320px"
   },
   "toc_section_display": true,
   "toc_window_display": true
  }
 },
 "nbformat": 4,
 "nbformat_minor": 5
}
