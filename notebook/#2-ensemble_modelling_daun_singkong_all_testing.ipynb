{
 "cells": [
  {
   "cell_type": "markdown",
   "id": "8fd40c16",
   "metadata": {},
   "source": [
    "# Introduction\n",
    "***\n",
    "Notebook **#2-ensemble_modelling_daun_singkong_all_testing** berisi uji coba dari semua eksperimen yang sudah dirancang, dimana pada notebook ini hanya tinggal meloading semua ensemble model yang sudah dilatih di setiap skenario uji coba dalam format pickle"
   ]
  },
  {
   "cell_type": "markdown",
   "id": "16886a07",
   "metadata": {},
   "source": [
    "# Import Libraries"
   ]
  },
  {
   "cell_type": "code",
   "execution_count": 1,
   "id": "938be0f2",
   "metadata": {},
   "outputs": [],
   "source": [
    "import pandas as pd\n",
    "import numpy as np\n",
    "\n",
    "# sklearn for utilization\n",
    "from sklearn.metrics import accuracy_score, classification_report, confusion_matrix, ConfusionMatrixDisplay\n",
    "from sklearn.metrics import recall_score, precision_score, fbeta_score\n",
    "from sklearn.model_selection import StratifiedKFold\n",
    "\n",
    "# visualization purpose\n",
    "import matplotlib.pyplot as plt\n",
    "\n",
    "# utils\n",
    "import pickle"
   ]
  },
  {
   "cell_type": "markdown",
   "id": "32c0772a",
   "metadata": {},
   "source": [
    "# Defining Global Variables "
   ]
  },
  {
   "cell_type": "code",
   "execution_count": 2,
   "id": "bc3a73cb",
   "metadata": {},
   "outputs": [],
   "source": [
    "kfold = StratifiedKFold(n_splits=5, random_state=45, shuffle=True)"
   ]
  },
  {
   "cell_type": "markdown",
   "id": "2073f2a5",
   "metadata": {},
   "source": [
    "# Defining Global Functions"
   ]
  },
  {
   "cell_type": "code",
   "execution_count": 3,
   "id": "868ac495",
   "metadata": {},
   "outputs": [],
   "source": [
    "def create_new_input_features(ensemble_classifiers, X, y):\n",
    "    all_predicted_results = dict()\n",
    "    list_of_majority_voting_each_models = list()\n",
    "\n",
    "    for model_name, models in ensemble_classifiers.items():\n",
    "        print(\"\\t\\t\\t\", model_name.upper())\n",
    "\n",
    "        # voting scenario for new data input prepration for ANN model\n",
    "        if len(models)!=0:\n",
    "            all_predicted_results[model_name] = dict()\n",
    "            for sub_model_name, dict_models in models.items():\n",
    "                all_predicted_results[model_name][sub_model_name] = dict_models['train'].predict(X)\n",
    "\n",
    "            # make dataframe for 5 model prediction results on X and get the mode label for that 5 prediction\n",
    "            model_df_voting = pd.DataFrame(all_predicted_results[model_name]).mode(axis=1)[0]\n",
    "            model_df_voting.columns = ['majority_vote_from_'+model_name]\n",
    "            list_of_majority_voting_each_models.append(model_df_voting)\n",
    "            \n",
    "    new_input_features = pd.concat(list_of_majority_voting_each_models, axis=1)\n",
    "    new_input_features['ground_truth'] = y.copy()\n",
    "            \n",
    "    return new_input_features"
   ]
  },
  {
   "cell_type": "code",
   "execution_count": 4,
   "id": "5fd85405",
   "metadata": {},
   "outputs": [],
   "source": [
    "# function untuk membuat fitur input baru untuk SKENARIO PENGUJIAN 3\n",
    "def create_new_input_features_scenario_3(ensemble_classifiers, X, y):\n",
    "    all_predicted_results = dict()\n",
    "    list_of_majority_voting_each_models = list()\n",
    "\n",
    "    for model_name, models in ensemble_classifiers.items():\n",
    "        print(\"\\t\\t\\t\", model_name.upper())\n",
    "\n",
    "        # voting scenario for new data input prepration for ANN model\n",
    "        if len(models)!=0:\n",
    "            all_predicted_results[model_name] = dict()\n",
    "            all_sub_model_name = list()\n",
    "            for sub_model_name, dict_models in models.items():\n",
    "                all_predicted_results[model_name][sub_model_name] = dict_models['train'].predict(X)\n",
    "                all_sub_model_name.append(sub_model_name)\n",
    "\n",
    "            # make dataframe for 5 model prediction results on X and get the mode label for that 5 prediction\n",
    "            df_results_for_each_classifiers = pd.DataFrame(all_predicted_results[model_name])\n",
    "            df_results_for_each_classifiers.columns = [model_name+\"_\"+sub_model_name for sub_model_name in all_sub_model_name]\n",
    "            list_of_majority_voting_each_models.append(df_results_for_each_classifiers)\n",
    "            \n",
    "    new_input_features = pd.concat(list_of_majority_voting_each_models, axis=1)\n",
    "    new_input_features['ground_truth'] = y.copy()\n",
    "            \n",
    "    return new_input_features"
   ]
  },
  {
   "cell_type": "code",
   "execution_count": 5,
   "id": "cca669e1",
   "metadata": {},
   "outputs": [],
   "source": [
    "def print_model_experiment_results(name_of_scenario, y_test, y_pred):\n",
    "    print('\\t\\t' + '='*30)\n",
    "    print('\\t\\tHASIl UJI COBA {}'.format(name_of_scenario.upper()))\n",
    "    print('\\t\\t' + '='*30)\n",
    "    print(\"\\tAkurasi Score: \", accuracy_score(y_test, y_pred))\n",
    "    print(\"\\tMacro Recall Score: \", recall_score(y_test, y_pred, average='macro'))\n",
    "    print(\"\\tMacro Precision Score: \", precision_score(y_test, y_pred, average='macro'))\n",
    "    print(\"\\tMacro F1-score Score: \", fbeta_score(y_test, y_pred, beta=1, average='macro'))\n",
    "    print(\"\\tMacro F2-score Score: \", fbeta_score(y_test, y_pred, beta=2, average='macro'))\n",
    "    print(\"\\tMacro F0.5-score Score: \", fbeta_score(y_test, y_pred, beta=0.5, average='macro'))\n",
    "    \n",
    "    print()\n",
    "    print()\n",
    "    print(classification_report(y_test, y_pred))\n",
    "    cm = confusion_matrix(new_y_test, y_pred)\n",
    "    disp = ConfusionMatrixDisplay(confusion_matrix=cm)\n",
    "    plt.figure(figsize=(14,8))\n",
    "    disp.plot()\n",
    "    plt.show()"
   ]
  },
  {
   "cell_type": "markdown",
   "id": "54af28d7",
   "metadata": {},
   "source": [
    "# Load All pre-trained ensemble stacking model\n",
    "***\n",
    "Loading semua model ensemble stacking yang sudah dilatih dari notebook-notebook sebelumnya"
   ]
  },
  {
   "cell_type": "code",
   "execution_count": 6,
   "id": "3905f70f",
   "metadata": {},
   "outputs": [],
   "source": [
    "# load pre-trained ensemble model from experiment 1\n",
    "model_ensemble_experiment_1 = pickle.load(open('model_ensemble_experiment_results/model_ensemble_eksperimen_1.pkl', 'rb'))\n",
    "\n",
    "# load pre-trained ensemble model from experiment 2\n",
    "model_ensemble_experiment_2 = pickle.load(open('model_ensemble_experiment_results/model_ensemble_eksperimen_2.pkl', 'rb'))\n",
    "\n",
    "# load pre-trained ensemble model from experiment 3\n",
    "model_ensemble_experiment_3 = pickle.load(open('model_ensemble_experiment_results/model_ensemble_eksperimen_3.pkl', 'rb'))"
   ]
  },
  {
   "cell_type": "markdown",
   "id": "f8df9b73",
   "metadata": {},
   "source": [
    "# Testing Model using all pre-defined scenario\n",
    "***\n",
    "- Scenario 1: sesuai alur pada paper rujukan\n",
    "- Scenario 2: feature selection dari fitur-fitur pada dataset daun singkong LBP"
   ]
  },
  {
   "cell_type": "markdown",
   "id": "02a0e5f7",
   "metadata": {},
   "source": [
    "## Uji Coba Scenario 1"
   ]
  },
  {
   "cell_type": "markdown",
   "id": "03e7ba5e",
   "metadata": {},
   "source": [
    "### Load Data for Scenario 1 from model_ensemble_experiment_1.pkl"
   ]
  },
  {
   "cell_type": "code",
   "execution_count": 7,
   "id": "83842ef4",
   "metadata": {},
   "outputs": [],
   "source": [
    "X_train_scenario_1 = model_ensemble_experiment_1['data']['training']['X']\n",
    "y_train_scenario_1 = model_ensemble_experiment_1['data']['training']['y']\n",
    "X_test_scenario_1 = model_ensemble_experiment_1['data']['testing']['X']\n",
    "y_test_scenario_1 = model_ensemble_experiment_1['data']['testing']['y']"
   ]
  },
  {
   "cell_type": "markdown",
   "id": "8867b684",
   "metadata": {},
   "source": [
    "### Create new input features from stacking ensemble ML before ANN process"
   ]
  },
  {
   "cell_type": "code",
   "execution_count": 8,
   "id": "73ef8941",
   "metadata": {},
   "outputs": [
    {
     "name": "stdout",
     "output_type": "stream",
     "text": [
      "\t\t\t SVM\n",
      "\t\t\t LOGREG\n",
      "\t\t\t NAIVE_BAYES\n",
      "\t\t\t DECISION_TREE\n"
     ]
    }
   ],
   "source": [
    "new_input_testing_features = create_new_input_features(\n",
    "    model_ensemble_experiment_1['stacking_ensembles'], \n",
    "    X_test_scenario_1,\n",
    "    y_test_scenario_1\n",
    ")"
   ]
  },
  {
   "cell_type": "markdown",
   "id": "353430fe",
   "metadata": {},
   "source": [
    "### Feed new input features into ANN"
   ]
  },
  {
   "cell_type": "code",
   "execution_count": 9,
   "id": "7f6af9f3",
   "metadata": {},
   "outputs": [
    {
     "name": "stdout",
     "output_type": "stream",
     "text": [
      "\t\t==============================\n",
      "\t\tHASIl UJI COBA SKENARIO UJI COBA 1\n",
      "\t\t==============================\n",
      "\tAkurasi Score:  0.5668224299065421\n",
      "\tMacro Recall Score:  0.30305224892941596\n",
      "\tMacro Precision Score:  0.3258022294839763\n",
      "\tMacro F1-score Score:  0.30965011483436883\n",
      "\tMacro F2-score Score:  0.30481901157852287\n",
      "\tMacro F0.5-score Score:  0.3178285668559689\n",
      "\n",
      "\n",
      "              precision    recall  f1-score   support\n",
      "\n",
      "           0       0.15      0.13      0.14       326\n",
      "           1       0.24      0.23      0.23       657\n",
      "           2       0.21      0.15      0.18       716\n",
      "           3       0.70      0.81      0.75      3948\n",
      "           4       0.33      0.20      0.25       773\n",
      "\n",
      "    accuracy                           0.57      6420\n",
      "   macro avg       0.33      0.30      0.31      6420\n",
      "weighted avg       0.53      0.57      0.54      6420\n",
      "\n"
     ]
    },
    {
     "data": {
      "text/plain": [
       "<Figure size 1008x576 with 0 Axes>"
      ]
     },
     "metadata": {},
     "output_type": "display_data"
    },
    {
     "data": {
      "image/png": "[encoded data removed]",
      "text/plain": [
       "<Figure size 432x288 with 2 Axes>"
      ]
     },
     "metadata": {
      "needs_background": "light"
     },
     "output_type": "display_data"
    }
   ],
   "source": [
    "# split X and y from new_input_features before feeding to ANN\n",
    "new_X_test, new_y_test = new_input_testing_features.drop(['ground_truth'],axis=1), new_input_testing_features['ground_truth']\n",
    "\n",
    "# predict new X test using pre-trained ANN before\n",
    "predicted_ann_testing_scenario_1 = model_ensemble_experiment_1['ann'].predict(new_X_test)\n",
    "\n",
    "# print testing results\n",
    "print_model_experiment_results('Skenario Uji Coba 1', new_y_test, predicted_ann_testing_scenario_1)"
   ]
  },
  {
   "cell_type": "markdown",
   "id": "38ba775d",
   "metadata": {},
   "source": [
    "## Uji Coba Scenario 2"
   ]
  },
  {
   "cell_type": "markdown",
   "id": "d64c010e",
   "metadata": {},
   "source": [
    "### Chi-Square "
   ]
  },
  {
   "cell_type": "markdown",
   "id": "5d681f35",
   "metadata": {},
   "source": [
    "#### Load Data for Scenario 2 (using Chi-Square) from model_ensemble_experiment_2.pkl"
   ]
  },
  {
   "cell_type": "code",
   "execution_count": 10,
   "id": "e6b147f9",
   "metadata": {},
   "outputs": [],
   "source": [
    "X_train_chi_square = model_ensemble_experiment_2['chi-square']['data']['training']['X']\n",
    "y_train_chi_square = model_ensemble_experiment_2['chi-square']['data']['training']['y']\n",
    "X_test_chi_square = model_ensemble_experiment_2['chi-square']['data']['testing']['X']\n",
    "y_test_chi_square = model_ensemble_experiment_2['chi-square']['data']['testing']['y']"
   ]
  },
  {
   "cell_type": "markdown",
   "id": "39f4081d",
   "metadata": {},
   "source": [
    "#### Create new input feature from stacking ensemble ML before ANN process"
   ]
  },
  {
   "cell_type": "code",
   "execution_count": 11,
   "id": "890a381e",
   "metadata": {},
   "outputs": [
    {
     "name": "stdout",
     "output_type": "stream",
     "text": [
      "\t\t\t SVM\n",
      "\t\t\t LOGREG\n",
      "\t\t\t NAIVE_BAYES\n",
      "\t\t\t DECISION_TREE\n"
     ]
    }
   ],
   "source": [
    "new_input_testing_features_chi_square = create_new_input_features(\n",
    "    model_ensemble_experiment_2['chi-square']['stacking_ensembles'], \n",
    "    X_test_chi_square,\n",
    "    y_test_chi_square\n",
    ")"
   ]
  },
  {
   "cell_type": "markdown",
   "id": "072244a1",
   "metadata": {},
   "source": [
    "#### Feed new input features into ANN"
   ]
  },
  {
   "cell_type": "code",
   "execution_count": 12,
   "id": "3b4cb59b",
   "metadata": {},
   "outputs": [
    {
     "name": "stdout",
     "output_type": "stream",
     "text": [
      "\t\t==============================\n",
      "\t\tHASIl UJI COBA SKENARIO UJI COBA 2 - USING CHI-SQUARE\n",
      "\t\t==============================\n",
      "\tAkurasi Score:  0.5537383177570093\n",
      "\tMacro Recall Score:  0.28968754788643153\n",
      "\tMacro Precision Score:  0.3096408974793094\n",
      "\tMacro F1-score Score:  0.29551279799903746\n",
      "\tMacro F2-score Score:  0.29126372307033543\n",
      "\tMacro F0.5-score Score:  0.3026658303767739\n",
      "\n",
      "\n",
      "              precision    recall  f1-score   support\n",
      "\n",
      "           0       0.11      0.10      0.11       326\n",
      "           1       0.22      0.19      0.20       657\n",
      "           2       0.22      0.18      0.20       716\n",
      "           3       0.70      0.79      0.74      3948\n",
      "           4       0.30      0.18      0.23       773\n",
      "\n",
      "    accuracy                           0.55      6420\n",
      "   macro avg       0.31      0.29      0.30      6420\n",
      "weighted avg       0.52      0.55      0.53      6420\n",
      "\n"
     ]
    },
    {
     "data": {
      "text/plain": [
       "<Figure size 1008x576 with 0 Axes>"
      ]
     },
     "metadata": {},
     "output_type": "display_data"
    },
    {
     "data": {
      "image/png": "[encoded data removed]",
      "text/plain": [
       "<Figure size 432x288 with 2 Axes>"
      ]
     },
     "metadata": {
      "needs_background": "light"
     },
     "output_type": "display_data"
    }
   ],
   "source": [
    "# split X and y from new_input_features before feeding to ANN\n",
    "new_X_test_chi_square, new_y_test_chi_square = new_input_testing_features_chi_square.drop(['ground_truth'],axis=1), new_input_testing_features_chi_square['ground_truth']\n",
    "\n",
    "# predict new X test using pre-trained ANN before\n",
    "predicted_ann_testing_scenario_chi_square = model_ensemble_experiment_1['ann'].predict(new_X_test_chi_square)\n",
    "\n",
    "# print testing results\n",
    "print_model_experiment_results('Skenario Uji Coba 2 - Using Chi-Square', new_y_test_chi_square, predicted_ann_testing_scenario_chi_square)"
   ]
  },
  {
   "cell_type": "markdown",
   "id": "d6dffcc7",
   "metadata": {},
   "source": [
    "### ANOVA F-score"
   ]
  },
  {
   "cell_type": "markdown",
   "id": "a6919a7c",
   "metadata": {},
   "source": [
    "#### Load Data for Scenario 2 (using ANOVA) from model_ensemble_experiment_2.pkl"
   ]
  },
  {
   "cell_type": "code",
   "execution_count": 13,
   "id": "8168a620",
   "metadata": {},
   "outputs": [],
   "source": [
    "X_train_anova = model_ensemble_experiment_2['anova']['data']['training']['X']\n",
    "y_train_anova = model_ensemble_experiment_2['anova']['data']['training']['y']\n",
    "X_test_anova = model_ensemble_experiment_2['anova']['data']['testing']['X']\n",
    "y_test_anova = model_ensemble_experiment_2['anova']['data']['testing']['y']"
   ]
  },
  {
   "cell_type": "markdown",
   "id": "071fcab7",
   "metadata": {},
   "source": [
    "#### Create new input feature from stacking ensemble ML before ANN process"
   ]
  },
  {
   "cell_type": "code",
   "execution_count": 14,
   "id": "27605747",
   "metadata": {},
   "outputs": [
    {
     "name": "stdout",
     "output_type": "stream",
     "text": [
      "\t\t\t SVM\n",
      "\t\t\t LOGREG\n",
      "\t\t\t NAIVE_BAYES\n",
      "\t\t\t DECISION_TREE\n"
     ]
    }
   ],
   "source": [
    "new_input_testing_features_anova = create_new_input_features(\n",
    "    model_ensemble_experiment_2['anova']['stacking_ensembles'], \n",
    "    X_test_anova,\n",
    "    y_test_anova\n",
    ")"
   ]
  },
  {
   "cell_type": "markdown",
   "id": "3e2f47ec",
   "metadata": {},
   "source": [
    "#### Feed new input features into ANN"
   ]
  },
  {
   "cell_type": "code",
   "execution_count": 15,
   "id": "303ff1ee",
   "metadata": {},
   "outputs": [
    {
     "name": "stdout",
     "output_type": "stream",
     "text": [
      "\t\t==============================\n",
      "\t\tHASIl UJI COBA SKENARIO UJI COBA 2 - USING ANOVA F-SCORE\n",
      "\t\t==============================\n",
      "\tAkurasi Score:  0.5490654205607477\n",
      "\tMacro Recall Score:  0.27258037403750873\n",
      "\tMacro Precision Score:  0.2887841891996083\n",
      "\tMacro F1-score Score:  0.2766625631718199\n",
      "\tMacro F2-score Score:  0.2734684274759668\n",
      "\tMacro F0.5-score Score:  0.2826739695876836\n",
      "\n",
      "\n",
      "              precision    recall  f1-score   support\n",
      "\n",
      "           0       0.09      0.08      0.08       326\n",
      "           1       0.19      0.17      0.18       657\n",
      "           2       0.19      0.15      0.17       716\n",
      "           3       0.70      0.80      0.74      3948\n",
      "           4       0.28      0.17      0.21       773\n",
      "\n",
      "    accuracy                           0.55      6420\n",
      "   macro avg       0.29      0.27      0.28      6420\n",
      "weighted avg       0.51      0.55      0.52      6420\n",
      "\n"
     ]
    },
    {
     "data": {
      "text/plain": [
       "<Figure size 1008x576 with 0 Axes>"
      ]
     },
     "metadata": {},
     "output_type": "display_data"
    },
    {
     "data": {
      "image/png": "[encoded data removed]",
      "text/plain": [
       "<Figure size 432x288 with 2 Axes>"
      ]
     },
     "metadata": {
      "needs_background": "light"
     },
     "output_type": "display_data"
    }
   ],
   "source": [
    "# split X and y from new_input_features before feeding to ANN\n",
    "new_X_test_anova, new_y_test_anova = new_input_testing_features_anova.drop(['ground_truth'],axis=1), new_input_testing_features_anova['ground_truth']\n",
    "\n",
    "# predict new X test using pre-trained ANN before\n",
    "predicted_ann_testing_scenario_anova = model_ensemble_experiment_1['ann'].predict(new_X_test_anova)\n",
    "\n",
    "# print testing results\n",
    "print_model_experiment_results('Skenario Uji Coba 2 - Using ANOVA F-score', new_y_test_anova, predicted_ann_testing_scenario_anova)"
   ]
  },
  {
   "cell_type": "markdown",
   "id": "de5f8a65",
   "metadata": {},
   "source": [
    "## Uji Coba Scenario 3"
   ]
  },
  {
   "cell_type": "markdown",
   "id": "d7df944b",
   "metadata": {},
   "source": [
    "### Load Data for Scenario 3 from model_ensemble_experiment_3.pkl"
   ]
  },
  {
   "cell_type": "code",
   "execution_count": 16,
   "id": "51f22380",
   "metadata": {},
   "outputs": [],
   "source": [
    "X_train_scenario_3 = model_ensemble_experiment_1['data']['training']['X']\n",
    "y_train_scenario_3 = model_ensemble_experiment_1['data']['training']['y']\n",
    "X_test_scenario_3 = model_ensemble_experiment_1['data']['testing']['X']\n",
    "y_test_scenario_3 = model_ensemble_experiment_1['data']['testing']['y']"
   ]
  },
  {
   "cell_type": "markdown",
   "id": "84f5d55a",
   "metadata": {},
   "source": [
    "### Create new input features from stacking ensemble ML before ANN process"
   ]
  },
  {
   "cell_type": "code",
   "execution_count": 17,
   "id": "58e1614e",
   "metadata": {},
   "outputs": [
    {
     "name": "stdout",
     "output_type": "stream",
     "text": [
      "\t\t\t SVM\n",
      "\t\t\t LOGREG\n",
      "\t\t\t NAIVE_BAYES\n",
      "\t\t\t DECISION_TREE\n"
     ]
    }
   ],
   "source": [
    "new_input_testing_features_scenario_3 = create_new_input_features_scenario_3(\n",
    "    model_ensemble_experiment_3['stacking_ensembles'], \n",
    "    X_test_scenario_3,\n",
    "    y_test_scenario_3\n",
    ")"
   ]
  },
  {
   "cell_type": "markdown",
   "id": "a221b81a",
   "metadata": {},
   "source": [
    "### Feed new input features into ANN"
   ]
  },
  {
   "cell_type": "code",
   "execution_count": 18,
   "id": "b92f5fa4",
   "metadata": {},
   "outputs": [
    {
     "name": "stdout",
     "output_type": "stream",
     "text": [
      "\t\t==============================\n",
      "\t\tHASIl UJI COBA SKENARIO UJI COBA 3\n",
      "\t\t==============================\n",
      "\tAkurasi Score:  0.5633956386292834\n",
      "\tMacro Recall Score:  0.2606638053219061\n",
      "\tMacro Precision Score:  0.30589138880836086\n",
      "\tMacro F1-score Score:  0.2618851252989492\n",
      "\tMacro F2-score Score:  0.2591389601845987\n",
      "\tMacro F0.5-score Score:  0.2759476848015988\n",
      "\n",
      "\n",
      "              precision    recall  f1-score   support\n",
      "\n",
      "           0       0.12      0.02      0.03       326\n",
      "           1       0.23      0.17      0.19       657\n",
      "           2       0.15      0.16      0.16       716\n",
      "           3       0.68      0.83      0.75      3948\n",
      "           4       0.34      0.12      0.18       773\n",
      "\n",
      "    accuracy                           0.56      6420\n",
      "   macro avg       0.31      0.26      0.26      6420\n",
      "weighted avg       0.50      0.56      0.52      6420\n",
      "\n"
     ]
    },
    {
     "data": {
      "text/plain": [
       "<Figure size 1008x576 with 0 Axes>"
      ]
     },
     "metadata": {},
     "output_type": "display_data"
    },
    {
     "data": {
      "image/png": "[encoded data removed]",
      "text/plain": [
       "<Figure size 432x288 with 2 Axes>"
      ]
     },
     "metadata": {
      "needs_background": "light"
     },
     "output_type": "display_data"
    }
   ],
   "source": [
    "# split X and y from new_input_features before feeding to ANN\n",
    "new_X_test_scenario_3, new_y_test_scenario_3 = new_input_testing_features_scenario_3.drop(['ground_truth'],axis=1), new_input_testing_features_scenario_3['ground_truth']\n",
    "\n",
    "# predict new X test using pre-trained ANN before\n",
    "predicted_ann_testing_scenario_3 = model_ensemble_experiment_3['ann'].predict(new_X_test_scenario_3)\n",
    "\n",
    "# print testing results\n",
    "print_model_experiment_results('Skenario Uji Coba 3', new_y_test_scenario_3, predicted_ann_testing_scenario_3)"
   ]
  }
 ],
 "metadata": {
  "kernelspec": {
   "display_name": "S2_computational_intelligence_ensemble_daun_singkong",
   "language": "python",
   "name": "s2_computational_intelligence_ensemble_daun_singkong"
  },
  "language_info": {
   "codemirror_mode": {
    "name": "ipython",
    "version": 3
   },
   "file_extension": ".py",
   "mimetype": "text/x-python",
   "name": "python",
   "nbconvert_exporter": "python",
   "pygments_lexer": "ipython3",
   "version": "3.10.4"
  },
  "toc": {
   "base_numbering": 1,
   "nav_menu": {},
   "number_sections": true,
   "sideBar": true,
   "skip_h1_title": false,
   "title_cell": "Table of Contents",
   "title_sidebar": "Contents",
   "toc_cell": false,
   "toc_position": {
    "height": "calc(100% - 180px)",
    "left": "10px",
    "top": "150px",
    "width": "532px"
   },
   "toc_section_display": true,
   "toc_window_display": true
  }
 },
 "nbformat": 4,
 "nbformat_minor": 5
}
