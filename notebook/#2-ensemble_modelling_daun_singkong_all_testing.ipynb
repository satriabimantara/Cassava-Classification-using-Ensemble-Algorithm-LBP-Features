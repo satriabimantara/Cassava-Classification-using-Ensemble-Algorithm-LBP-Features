{
 "cells": [
  {
   "cell_type": "markdown",
   "id": "8fd40c16",
   "metadata": {},
   "source": [
    "# Introduction\n",
    "***\n",
    "Notebook **#2-ensemble_modelling_daun_singkong_all_testing** berisi uji coba dari semua eksperimen yang sudah dirancang, dimana pada notebook ini hanya tinggal meloading semua ensemble model yang sudah dilatih di setiap skenario uji coba dalam format pickle"
   ]
  },
  {
   "cell_type": "markdown",
   "id": "16886a07",
   "metadata": {},
   "source": [
    "# Import Libraries"
   ]
  },
  {
   "cell_type": "code",
   "execution_count": 1,
   "id": "938be0f2",
   "metadata": {},
   "outputs": [],
   "source": [
    "import pandas as pd\n",
    "import numpy as np\n",
    "\n",
    "# sklearn for utilization\n",
    "from sklearn.metrics import accuracy_score, classification_report, confusion_matrix, ConfusionMatrixDisplay\n",
    "from sklearn.metrics import recall_score, precision_score, fbeta_score\n",
    "from sklearn.model_selection import StratifiedKFold\n",
    "\n",
    "# visualization purpose\n",
    "import matplotlib.pyplot as plt\n",
    "\n",
    "# utils\n",
    "import pickle"
   ]
  },
  {
   "cell_type": "markdown",
   "id": "32c0772a",
   "metadata": {},
   "source": [
    "# Defining Global Variables "
   ]
  },
  {
   "cell_type": "code",
   "execution_count": 2,
   "id": "bc3a73cb",
   "metadata": {},
   "outputs": [],
   "source": [
    "kfold = StratifiedKFold(n_splits=5, random_state=45, shuffle=True)"
   ]
  },
  {
   "cell_type": "markdown",
   "id": "2073f2a5",
   "metadata": {},
   "source": [
    "# Defining Global Functions"
   ]
  },
  {
   "cell_type": "code",
   "execution_count": 3,
   "id": "868ac495",
   "metadata": {},
   "outputs": [],
   "source": [
    "def create_new_input_features(ensemble_classifiers, X, y):\n",
    "    all_predicted_results = dict()\n",
    "    list_of_majority_voting_each_models = list()\n",
    "    list_of_models = list()\n",
    "\n",
    "    for model_name, models in ensemble_classifiers.items():\n",
    "        print(\"\\t\\t\\t\", model_name.upper())\n",
    "\n",
    "        # voting scenario for new data input prepration for ANN model\n",
    "        if len(models)!=0:\n",
    "            all_predicted_results[model_name] = dict()\n",
    "            for sub_model_name, dict_models in models.items():\n",
    "                all_predicted_results[model_name][sub_model_name] = dict_models['train'].predict(X)\n",
    "\n",
    "            # make dataframe for 5 model prediction results on X and get the mode label for that 5 prediction\n",
    "            model_df_voting = pd.DataFrame(all_predicted_results[model_name]).mode(axis=1)[0]\n",
    "            list_of_models.append('majority_vote_from_'+model_name)\n",
    "            list_of_majority_voting_each_models.append(model_df_voting)\n",
    "            \n",
    "    new_input_features = pd.concat(list_of_majority_voting_each_models, axis=1)\n",
    "    new_input_features.columns = list_of_models\n",
    "    new_input_features['ground_truth'] = y.copy()\n",
    "            \n",
    "    return new_input_features"
   ]
  },
  {
   "cell_type": "code",
   "execution_count": 4,
   "id": "5fd85405",
   "metadata": {},
   "outputs": [],
   "source": [
    "# function untuk membuat fitur input baru untuk SKENARIO PENGUJIAN 3 dan 4\n",
    "def create_new_input_features_scenario_3(ensemble_classifiers, X, y):\n",
    "    all_predicted_results = dict()\n",
    "    list_of_majority_voting_each_models = list()\n",
    "\n",
    "    for model_name, models in ensemble_classifiers.items():\n",
    "        print(\"\\t\\t\\t\", model_name.upper())\n",
    "\n",
    "        if len(models)!=0:\n",
    "            all_predicted_results[model_name] = dict()\n",
    "            all_sub_model_name = list()\n",
    "            for sub_model_name, dict_models in models.items():\n",
    "                all_predicted_results[model_name][sub_model_name] = dict_models['train'].predict(X)\n",
    "                all_sub_model_name.append(sub_model_name)\n",
    "\n",
    "            # make dataframe for 5 model prediction results without vote mechanism\n",
    "            df_results_for_each_classifiers = pd.DataFrame(all_predicted_results[model_name])\n",
    "            df_results_for_each_classifiers.columns = [model_name+\"_\"+sub_model_name for sub_model_name in all_sub_model_name]\n",
    "            list_of_majority_voting_each_models.append(df_results_for_each_classifiers)\n",
    "            \n",
    "    new_input_features = pd.concat(list_of_majority_voting_each_models, axis=1)\n",
    "    new_input_features['ground_truth'] = y.copy()\n",
    "            \n",
    "    return new_input_features"
   ]
  },
  {
   "cell_type": "code",
   "execution_count": 5,
   "id": "cca669e1",
   "metadata": {},
   "outputs": [],
   "source": [
    "def print_model_experiment_results(name_of_scenario, y_test, y_pred):\n",
    "    print('\\t\\t' + '='*30)\n",
    "    print('\\t\\tHASIl UJI COBA {}'.format(name_of_scenario.upper()))\n",
    "    print('\\t\\t' + '='*30)\n",
    "    print(\"\\tAkurasi Score: \", accuracy_score(y_test, y_pred))\n",
    "    print(\"\\tMacro Recall Score: \", recall_score(y_test, y_pred, average='macro'))\n",
    "    print(\"\\tMacro Precision Score: \", precision_score(y_test, y_pred, average='macro'))\n",
    "    print(\"\\tMacro F1-score Score: \", fbeta_score(y_test, y_pred, beta=1, average='macro'))\n",
    "    print(\"\\tMacro F2-score Score: \", fbeta_score(y_test, y_pred, beta=2, average='macro'))\n",
    "    print(\"\\tMacro F0.5-score Score: \", fbeta_score(y_test, y_pred, beta=0.5, average='macro'))\n",
    "    \n",
    "    print()\n",
    "    print()\n",
    "    print(classification_report(y_test, y_pred))\n",
    "    cm = confusion_matrix(y_test, y_pred)\n",
    "    disp = ConfusionMatrixDisplay(confusion_matrix=cm)\n",
    "    plt.figure(figsize=(14,8))\n",
    "    disp.plot()\n",
    "    plt.show()"
   ]
  },
  {
   "cell_type": "markdown",
   "id": "54af28d7",
   "metadata": {},
   "source": [
    "# Load All pre-trained ensemble stacking model\n",
    "***\n",
    "Loading semua model ensemble stacking yang sudah dilatih dari notebook-notebook sebelumnya"
   ]
  },
  {
   "cell_type": "code",
   "execution_count": 6,
   "id": "3905f70f",
   "metadata": {},
   "outputs": [],
   "source": [
    "# load pre-trained ensemble model from experiment 1\n",
    "model_ensemble_experiment_1 = pickle.load(open('model_ensemble_experiment_results/model_ensemble_eksperimen_1.pkl', 'rb'))\n",
    "\n",
    "# load pre-trained ensemble model from experiment 2\n",
    "model_ensemble_experiment_2 = pickle.load(open('model_ensemble_experiment_results/model_ensemble_eksperimen_2.pkl', 'rb'))\n",
    "\n",
    "# load pre-trained ensemble model from experiment 3\n",
    "model_ensemble_experiment_3 = pickle.load(open('model_ensemble_experiment_results/model_ensemble_eksperimen_3.pkl', 'rb'))\n",
    "\n",
    "# load pre-trained ensemble model from experiment 4\n",
    "model_ensemble_experiment_4 = pickle.load(open('model_ensemble_experiment_results/model_ensemble_eksperimen_4.pkl', 'rb'))\n",
    "\n",
    "# load pre-trained ensemble model from experiment 5\n",
    "model_ensemble_experiment_5 = pickle.load(open('model_ensemble_experiment_results/model_ensemble_eksperimen_5.pkl', 'rb'))"
   ]
  },
  {
   "cell_type": "markdown",
   "id": "f8df9b73",
   "metadata": {},
   "source": [
    "# Testing Model using all pre-defined scenario\n",
    "***\n",
    "- Scenario 1: sesuai alur pada paper rujukan\n",
    "- Scenario 2: feature selection dari fitur-fitur pada dataset daun singkong LBP"
   ]
  },
  {
   "cell_type": "markdown",
   "id": "02a0e5f7",
   "metadata": {},
   "source": [
    "## Uji Coba Scenario 1"
   ]
  },
  {
   "cell_type": "markdown",
   "id": "03e7ba5e",
   "metadata": {},
   "source": [
    "### Load Data for Scenario 1 from model_ensemble_experiment_1.pkl"
   ]
  },
  {
   "cell_type": "code",
   "execution_count": 7,
   "id": "83842ef4",
   "metadata": {},
   "outputs": [],
   "source": [
    "X_train_scenario_1 = model_ensemble_experiment_1['data']['training']['X']\n",
    "y_train_scenario_1 = model_ensemble_experiment_1['data']['training']['y']\n",
    "X_test_scenario_1 = model_ensemble_experiment_1['data']['testing']['X']\n",
    "y_test_scenario_1 = model_ensemble_experiment_1['data']['testing']['y']"
   ]
  },
  {
   "cell_type": "markdown",
   "id": "8867b684",
   "metadata": {},
   "source": [
    "### Create new input features from stacking ensemble ML before ANN process"
   ]
  },
  {
   "cell_type": "code",
   "execution_count": 8,
   "id": "73ef8941",
   "metadata": {},
   "outputs": [
    {
     "name": "stdout",
     "output_type": "stream",
     "text": [
      "\t\t\t SVM\n",
      "\t\t\t LOGREG\n",
      "\t\t\t NAIVE_BAYES\n",
      "\t\t\t DECISION_TREE\n"
     ]
    }
   ],
   "source": [
    "new_input_testing_features = create_new_input_features(\n",
    "    model_ensemble_experiment_1['stacking_ensembles'], \n",
    "    X_test_scenario_1,\n",
    "    y_test_scenario_1\n",
    ")"
   ]
  },
  {
   "cell_type": "markdown",
   "id": "353430fe",
   "metadata": {},
   "source": [
    "### Feed new input features into ANN"
   ]
  },
  {
   "cell_type": "code",
   "execution_count": 9,
   "id": "7f6af9f3",
   "metadata": {},
   "outputs": [
    {
     "name": "stdout",
     "output_type": "stream",
     "text": [
      "\t\t==============================\n",
      "\t\tHASIl UJI COBA SKENARIO UJI COBA 1\n",
      "\t\t==============================\n",
      "\tAkurasi Score:  0.5747663551401869\n",
      "\tMacro Recall Score:  0.30851405940048865\n",
      "\tMacro Precision Score:  0.3337617848181857\n",
      "\tMacro F1-score Score:  0.3159957571358935\n",
      "\tMacro F2-score Score:  0.31055979179110044\n",
      "\tMacro F0.5-score Score:  0.325036836915377\n",
      "\n",
      "\n",
      "              precision    recall  f1-score   support\n",
      "\n",
      "           0       0.16      0.14      0.15       326\n",
      "           1       0.24      0.22      0.23       657\n",
      "           2       0.23      0.16      0.19       716\n",
      "           3       0.71      0.82      0.76      3948\n",
      "           4       0.32      0.20      0.25       773\n",
      "\n",
      "    accuracy                           0.57      6420\n",
      "   macro avg       0.33      0.31      0.32      6420\n",
      "weighted avg       0.53      0.57      0.55      6420\n",
      "\n"
     ]
    },
    {
     "data": {
      "text/plain": [
       "<Figure size 1008x576 with 0 Axes>"
      ]
     },
     "metadata": {},
     "output_type": "display_data"
    },
    {
     "data": {
      "image/png": "[encoded data removed]",
      "text/plain": [
       "<Figure size 432x288 with 2 Axes>"
      ]
     },
     "metadata": {
      "needs_background": "light"
     },
     "output_type": "display_data"
    }
   ],
   "source": [
    "# split X and y from new_input_features before feeding to ANN\n",
    "new_X_test, new_y_test = new_input_testing_features.drop(['ground_truth'],axis=1), new_input_testing_features['ground_truth']\n",
    "\n",
    "# predict new X test using pre-trained ANN before\n",
    "predicted_ann_testing_scenario_1 = model_ensemble_experiment_1['ann'].predict(new_X_test)\n",
    "\n",
    "# print testing results\n",
    "print_model_experiment_results('Skenario Uji Coba 1', new_y_test, predicted_ann_testing_scenario_1)"
   ]
  },
  {
   "cell_type": "markdown",
   "id": "38ba775d",
   "metadata": {},
   "source": [
    "## Uji Coba Scenario 2"
   ]
  },
  {
   "cell_type": "markdown",
   "id": "d64c010e",
   "metadata": {},
   "source": [
    "### Chi-Square "
   ]
  },
  {
   "cell_type": "markdown",
   "id": "5d681f35",
   "metadata": {},
   "source": [
    "#### Load Data for Scenario 2 (using Chi-Square) from model_ensemble_experiment_2.pkl"
   ]
  },
  {
   "cell_type": "code",
   "execution_count": 10,
   "id": "e6b147f9",
   "metadata": {},
   "outputs": [],
   "source": [
    "X_train_chi_square = model_ensemble_experiment_2['chi-square']['data']['training']['X']\n",
    "y_train_chi_square = model_ensemble_experiment_2['chi-square']['data']['training']['y']\n",
    "X_test_chi_square = model_ensemble_experiment_2['chi-square']['data']['testing']['X']\n",
    "y_test_chi_square = model_ensemble_experiment_2['chi-square']['data']['testing']['y']"
   ]
  },
  {
   "cell_type": "markdown",
   "id": "39f4081d",
   "metadata": {},
   "source": [
    "#### Create new input feature from stacking ensemble ML before ANN process"
   ]
  },
  {
   "cell_type": "code",
   "execution_count": 11,
   "id": "890a381e",
   "metadata": {},
   "outputs": [
    {
     "name": "stdout",
     "output_type": "stream",
     "text": [
      "\t\t\t SVM\n",
      "\t\t\t LOGREG\n",
      "\t\t\t NAIVE_BAYES\n",
      "\t\t\t DECISION_TREE\n"
     ]
    }
   ],
   "source": [
    "new_input_testing_features_chi_square = create_new_input_features(\n",
    "    model_ensemble_experiment_2['chi-square']['stacking_ensembles'], \n",
    "    X_test_chi_square,\n",
    "    y_test_chi_square\n",
    ")"
   ]
  },
  {
   "cell_type": "markdown",
   "id": "072244a1",
   "metadata": {},
   "source": [
    "#### Feed new input features into ANN"
   ]
  },
  {
   "cell_type": "code",
   "execution_count": 12,
   "id": "3b4cb59b",
   "metadata": {},
   "outputs": [
    {
     "name": "stdout",
     "output_type": "stream",
     "text": [
      "\t\t==============================\n",
      "\t\tHASIl UJI COBA SKENARIO UJI COBA 2 - USING CHI-SQUARE\n",
      "\t\t==============================\n",
      "\tAkurasi Score:  0.5538940809968848\n",
      "\tMacro Recall Score:  0.2905533796801125\n",
      "\tMacro Precision Score:  0.309905124267281\n",
      "\tMacro F1-score Score:  0.29586574467325355\n",
      "\tMacro F2-score Score:  0.2919106092065155\n",
      "\tMacro F0.5-score Score:  0.30285443046005167\n",
      "\n",
      "\n",
      "              precision    recall  f1-score   support\n",
      "\n",
      "           0       0.12      0.11      0.12       326\n",
      "           1       0.22      0.20      0.21       657\n",
      "           2       0.22      0.18      0.19       716\n",
      "           3       0.70      0.79      0.74      3948\n",
      "           4       0.29      0.17      0.21       773\n",
      "\n",
      "    accuracy                           0.55      6420\n",
      "   macro avg       0.31      0.29      0.30      6420\n",
      "weighted avg       0.52      0.55      0.53      6420\n",
      "\n"
     ]
    },
    {
     "data": {
      "text/plain": [
       "<Figure size 1008x576 with 0 Axes>"
      ]
     },
     "metadata": {},
     "output_type": "display_data"
    },
    {
     "data": {
      "image/png": "[encoded data removed]",
      "text/plain": [
       "<Figure size 432x288 with 2 Axes>"
      ]
     },
     "metadata": {
      "needs_background": "light"
     },
     "output_type": "display_data"
    }
   ],
   "source": [
    "# split X and y from new_input_features before feeding to ANN\n",
    "new_X_test_chi_square, new_y_test_chi_square = new_input_testing_features_chi_square.drop(['ground_truth'],axis=1), new_input_testing_features_chi_square['ground_truth']\n",
    "\n",
    "# predict new X test using pre-trained ANN before\n",
    "predicted_ann_testing_scenario_chi_square = model_ensemble_experiment_1['ann'].predict(new_X_test_chi_square)\n",
    "\n",
    "# print testing results\n",
    "print_model_experiment_results('Skenario Uji Coba 2 - Using Chi-Square', new_y_test_chi_square, predicted_ann_testing_scenario_chi_square)"
   ]
  },
  {
   "cell_type": "markdown",
   "id": "d6dffcc7",
   "metadata": {},
   "source": [
    "### ANOVA F-score"
   ]
  },
  {
   "cell_type": "markdown",
   "id": "a6919a7c",
   "metadata": {},
   "source": [
    "#### Load Data for Scenario 2 (using ANOVA) from model_ensemble_experiment_2.pkl"
   ]
  },
  {
   "cell_type": "code",
   "execution_count": 13,
   "id": "8168a620",
   "metadata": {},
   "outputs": [],
   "source": [
    "X_train_anova = model_ensemble_experiment_2['anova']['data']['training']['X']\n",
    "y_train_anova = model_ensemble_experiment_2['anova']['data']['training']['y']\n",
    "X_test_anova = model_ensemble_experiment_2['anova']['data']['testing']['X']\n",
    "y_test_anova = model_ensemble_experiment_2['anova']['data']['testing']['y']"
   ]
  },
  {
   "cell_type": "markdown",
   "id": "071fcab7",
   "metadata": {},
   "source": [
    "#### Create new input feature from stacking ensemble ML before ANN process"
   ]
  },
  {
   "cell_type": "code",
   "execution_count": 14,
   "id": "27605747",
   "metadata": {},
   "outputs": [
    {
     "name": "stdout",
     "output_type": "stream",
     "text": [
      "\t\t\t SVM\n",
      "\t\t\t LOGREG\n",
      "\t\t\t NAIVE_BAYES\n",
      "\t\t\t DECISION_TREE\n"
     ]
    }
   ],
   "source": [
    "new_input_testing_features_anova = create_new_input_features(\n",
    "    model_ensemble_experiment_2['anova']['stacking_ensembles'], \n",
    "    X_test_anova,\n",
    "    y_test_anova\n",
    ")"
   ]
  },
  {
   "cell_type": "markdown",
   "id": "3e2f47ec",
   "metadata": {},
   "source": [
    "#### Feed new input features into ANN"
   ]
  },
  {
   "cell_type": "code",
   "execution_count": 15,
   "id": "303ff1ee",
   "metadata": {},
   "outputs": [
    {
     "name": "stdout",
     "output_type": "stream",
     "text": [
      "\t\t==============================\n",
      "\t\tHASIl UJI COBA SKENARIO UJI COBA 2 - USING ANOVA F-SCORE\n",
      "\t\t==============================\n",
      "\tAkurasi Score:  0.5562305295950156\n",
      "\tMacro Recall Score:  0.28546589383816723\n",
      "\tMacro Precision Score:  0.30472551856421876\n",
      "\tMacro F1-score Score:  0.2909597879980688\n",
      "\tMacro F2-score Score:  0.28688086973444216\n",
      "\tMacro F0.5-score Score:  0.2979452635550543\n",
      "\n",
      "\n",
      "              precision    recall  f1-score   support\n",
      "\n",
      "           0       0.13      0.10      0.11       326\n",
      "           1       0.22      0.19      0.20       657\n",
      "           2       0.21      0.17      0.18       716\n",
      "           3       0.70      0.80      0.75      3948\n",
      "           4       0.27      0.17      0.21       773\n",
      "\n",
      "    accuracy                           0.56      6420\n",
      "   macro avg       0.30      0.29      0.29      6420\n",
      "weighted avg       0.51      0.56      0.53      6420\n",
      "\n"
     ]
    },
    {
     "data": {
      "text/plain": [
       "<Figure size 1008x576 with 0 Axes>"
      ]
     },
     "metadata": {},
     "output_type": "display_data"
    },
    {
     "data": {
      "image/png": "[encoded data removed]",
      "text/plain": [
       "<Figure size 432x288 with 2 Axes>"
      ]
     },
     "metadata": {
      "needs_background": "light"
     },
     "output_type": "display_data"
    }
   ],
   "source": [
    "# split X and y from new_input_features before feeding to ANN\n",
    "new_X_test_anova, new_y_test_anova = new_input_testing_features_anova.drop(['ground_truth'],axis=1), new_input_testing_features_anova['ground_truth']\n",
    "\n",
    "# predict new X test using pre-trained ANN before\n",
    "predicted_ann_testing_scenario_anova = model_ensemble_experiment_1['ann'].predict(new_X_test_anova)\n",
    "\n",
    "# print testing results\n",
    "print_model_experiment_results('Skenario Uji Coba 2 - Using ANOVA F-score', new_y_test_anova, predicted_ann_testing_scenario_anova)"
   ]
  },
  {
   "cell_type": "markdown",
   "id": "ac524419",
   "metadata": {},
   "source": [
    "### PCA Feature Reduction"
   ]
  },
  {
   "cell_type": "markdown",
   "id": "63ba24c6",
   "metadata": {},
   "source": [
    "#### Load Data for Scenario 2 (using PCA) from model_ensemble_experiment_2.pkl"
   ]
  },
  {
   "cell_type": "code",
   "execution_count": 16,
   "id": "08b3a42b",
   "metadata": {},
   "outputs": [],
   "source": [
    "X_train_pca = model_ensemble_experiment_2['pca']['data']['training']['X']\n",
    "y_train_pca = model_ensemble_experiment_2['pca']['data']['training']['y']\n",
    "X_test_pca = model_ensemble_experiment_2['pca']['data']['testing']['X']\n",
    "y_test_pca = model_ensemble_experiment_2['pca']['data']['testing']['y']"
   ]
  },
  {
   "cell_type": "markdown",
   "id": "a9dceeea",
   "metadata": {},
   "source": [
    "#### Create new input feature from stacking ensemble ML before ANN process"
   ]
  },
  {
   "cell_type": "code",
   "execution_count": 17,
   "id": "5c383014",
   "metadata": {},
   "outputs": [
    {
     "name": "stdout",
     "output_type": "stream",
     "text": [
      "\t\t\t SVM\n",
      "\t\t\t LOGREG\n",
      "\t\t\t NAIVE_BAYES\n",
      "\t\t\t DECISION_TREE\n"
     ]
    }
   ],
   "source": [
    "new_input_testing_features_pca = create_new_input_features(\n",
    "    model_ensemble_experiment_2['pca']['stacking_ensembles'], \n",
    "    X_test_pca,\n",
    "    y_test_pca\n",
    ")"
   ]
  },
  {
   "cell_type": "markdown",
   "id": "174bcd07",
   "metadata": {},
   "source": [
    "#### Feed new input features into ANN"
   ]
  },
  {
   "cell_type": "code",
   "execution_count": 18,
   "id": "040af96a",
   "metadata": {},
   "outputs": [
    {
     "name": "stdout",
     "output_type": "stream",
     "text": [
      "\t\t==============================\n",
      "\t\tHASIl UJI COBA SKENARIO UJI COBA 2 - USING PCA\n",
      "\t\t==============================\n",
      "\tAkurasi Score:  0.5306853582554517\n",
      "\tMacro Recall Score:  0.26849995093514706\n",
      "\tMacro Precision Score:  0.28339955384975457\n",
      "\tMacro F1-score Score:  0.2722344256760361\n",
      "\tMacro F2-score Score:  0.26932203880106126\n",
      "\tMacro F0.5-score Score:  0.2777501865559455\n",
      "\n",
      "\n",
      "              precision    recall  f1-score   support\n",
      "\n",
      "           0       0.11      0.11      0.11       326\n",
      "           1       0.17      0.16      0.16       657\n",
      "           2       0.13      0.10      0.12       716\n",
      "           3       0.68      0.77      0.72      3948\n",
      "           4       0.32      0.20      0.25       773\n",
      "\n",
      "    accuracy                           0.53      6420\n",
      "   macro avg       0.28      0.27      0.27      6420\n",
      "weighted avg       0.50      0.53      0.51      6420\n",
      "\n"
     ]
    },
    {
     "data": {
      "text/plain": [
       "<Figure size 1008x576 with 0 Axes>"
      ]
     },
     "metadata": {},
     "output_type": "display_data"
    },
    {
     "data": {
      "image/png": "[encoded data removed]",
      "text/plain": [
       "<Figure size 432x288 with 2 Axes>"
      ]
     },
     "metadata": {
      "needs_background": "light"
     },
     "output_type": "display_data"
    }
   ],
   "source": [
    "# split X and y from new_input_features before feeding to ANN\n",
    "new_X_test_pca, new_y_test_pca = new_input_testing_features_pca.drop(['ground_truth'],axis=1), new_input_testing_features_pca['ground_truth']\n",
    "\n",
    "# predict new X test using pre-trained ANN before\n",
    "predicted_ann_testing_scenario_pca = model_ensemble_experiment_1['ann'].predict(new_X_test_pca)\n",
    "\n",
    "# print testing results\n",
    "print_model_experiment_results('Skenario Uji Coba 2 - Using PCA', new_y_test_pca, predicted_ann_testing_scenario_pca)"
   ]
  },
  {
   "cell_type": "markdown",
   "id": "de5f8a65",
   "metadata": {},
   "source": [
    "## Uji Coba Scenario 3"
   ]
  },
  {
   "cell_type": "markdown",
   "id": "d7df944b",
   "metadata": {},
   "source": [
    "### Load Data for Scenario 3 from model_ensemble_experiment_3.pkl"
   ]
  },
  {
   "cell_type": "code",
   "execution_count": 19,
   "id": "51f22380",
   "metadata": {},
   "outputs": [],
   "source": [
    "X_train_scenario_3 = model_ensemble_experiment_1['data']['training']['X']\n",
    "y_train_scenario_3 = model_ensemble_experiment_1['data']['training']['y']\n",
    "X_test_scenario_3 = model_ensemble_experiment_1['data']['testing']['X']\n",
    "y_test_scenario_3 = model_ensemble_experiment_1['data']['testing']['y']"
   ]
  },
  {
   "cell_type": "markdown",
   "id": "84f5d55a",
   "metadata": {},
   "source": [
    "### Create new input features from stacking ensemble ML before ANN process"
   ]
  },
  {
   "cell_type": "code",
   "execution_count": 20,
   "id": "58e1614e",
   "metadata": {},
   "outputs": [
    {
     "name": "stdout",
     "output_type": "stream",
     "text": [
      "\t\t\t SVM\n",
      "\t\t\t LOGREG\n",
      "\t\t\t NAIVE_BAYES\n",
      "\t\t\t DECISION_TREE\n"
     ]
    }
   ],
   "source": [
    "new_input_testing_features_scenario_3 = create_new_input_features_scenario_3(\n",
    "    model_ensemble_experiment_3['stacking_ensembles'], \n",
    "    X_test_scenario_3,\n",
    "    y_test_scenario_3\n",
    ")"
   ]
  },
  {
   "cell_type": "markdown",
   "id": "a221b81a",
   "metadata": {},
   "source": [
    "### Feed new input features into ANN"
   ]
  },
  {
   "cell_type": "code",
   "execution_count": 21,
   "id": "b92f5fa4",
   "metadata": {},
   "outputs": [
    {
     "name": "stdout",
     "output_type": "stream",
     "text": [
      "\t\t==============================\n",
      "\t\tHASIl UJI COBA SKENARIO UJI COBA 3\n",
      "\t\t==============================\n",
      "\tAkurasi Score:  0.5465732087227414\n",
      "\tMacro Recall Score:  0.2599892417951186\n",
      "\tMacro Precision Score:  0.29666919188268126\n",
      "\tMacro F1-score Score:  0.260817881717976\n",
      "\tMacro F2-score Score:  0.25855849005016096\n",
      "\tMacro F0.5-score Score:  0.27284998589157383\n",
      "\n",
      "\n",
      "              precision    recall  f1-score   support\n",
      "\n",
      "           0       0.13      0.02      0.04       326\n",
      "           1       0.19      0.15      0.17       657\n",
      "           2       0.16      0.20      0.18       716\n",
      "           3       0.68      0.80      0.73      3948\n",
      "           4       0.32      0.13      0.19       773\n",
      "\n",
      "    accuracy                           0.55      6420\n",
      "   macro avg       0.30      0.26      0.26      6420\n",
      "weighted avg       0.50      0.55      0.51      6420\n",
      "\n"
     ]
    },
    {
     "data": {
      "text/plain": [
       "<Figure size 1008x576 with 0 Axes>"
      ]
     },
     "metadata": {},
     "output_type": "display_data"
    },
    {
     "data": {
      "image/png": "[encoded data removed]",
      "text/plain": [
       "<Figure size 432x288 with 2 Axes>"
      ]
     },
     "metadata": {
      "needs_background": "light"
     },
     "output_type": "display_data"
    }
   ],
   "source": [
    "# split X and y from new_input_features before feeding to ANN\n",
    "new_X_test_scenario_3, new_y_test_scenario_3 = new_input_testing_features_scenario_3.drop(['ground_truth'],axis=1), new_input_testing_features_scenario_3['ground_truth']\n",
    "\n",
    "# predict new X test using pre-trained ANN before\n",
    "predicted_ann_testing_scenario_3 = model_ensemble_experiment_3['ann'].predict(new_X_test_scenario_3)\n",
    "\n",
    "# print testing results\n",
    "print_model_experiment_results('Skenario Uji Coba 3', new_y_test_scenario_3, predicted_ann_testing_scenario_3)"
   ]
  },
  {
   "cell_type": "markdown",
   "id": "21582d0d",
   "metadata": {},
   "source": [
    "## Uji Coba Skenario 4"
   ]
  },
  {
   "cell_type": "markdown",
   "id": "6cf5f65c",
   "metadata": {},
   "source": [
    "### Load Data for Scenario 4 from model_ensemble_experiment_4.pkl"
   ]
  },
  {
   "cell_type": "code",
   "execution_count": 22,
   "id": "a5bdeee3",
   "metadata": {},
   "outputs": [],
   "source": [
    "X_train_scenario_4 = model_ensemble_experiment_4['data']['training']['X']\n",
    "y_train_scenario_4 = model_ensemble_experiment_4['data']['training']['y']\n",
    "X_test_scenario_4 = model_ensemble_experiment_4['data']['testing']['X']\n",
    "y_test_scenario_4 = model_ensemble_experiment_4['data']['testing']['y']"
   ]
  },
  {
   "cell_type": "markdown",
   "id": "bcad2e54",
   "metadata": {},
   "source": [
    "### Create new input features from stacking ensemble ML before ANN process"
   ]
  },
  {
   "cell_type": "code",
   "execution_count": 23,
   "id": "ce6551a5",
   "metadata": {},
   "outputs": [
    {
     "name": "stdout",
     "output_type": "stream",
     "text": [
      "\t\t\t SVM\n",
      "\t\t\t LOGREG\n",
      "\t\t\t NAIVE_BAYES\n",
      "\t\t\t DECISION_TREE\n"
     ]
    }
   ],
   "source": [
    "new_input_testing_features_scenario_4 = create_new_input_features_scenario_3(\n",
    "    model_ensemble_experiment_4['stacking_ensembles'], \n",
    "    X_test_scenario_4,\n",
    "    y_test_scenario_4\n",
    ")"
   ]
  },
  {
   "cell_type": "markdown",
   "id": "5badb3c6",
   "metadata": {},
   "source": [
    "### Feature Selection and Reduction from new input features"
   ]
  },
  {
   "cell_type": "code",
   "execution_count": 24,
   "id": "a8310965",
   "metadata": {},
   "outputs": [],
   "source": [
    "X_new_input_features = new_input_testing_features_scenario_4.drop(['ground_truth'], axis=1)\n",
    "y_new_input_features = new_input_testing_features_scenario_4['ground_truth'].copy()"
   ]
  },
  {
   "cell_type": "markdown",
   "id": "0bc2e985",
   "metadata": {},
   "source": [
    "#### Chi-square"
   ]
  },
  {
   "cell_type": "code",
   "execution_count": 25,
   "id": "34f42eac",
   "metadata": {},
   "outputs": [],
   "source": [
    "# do feature selection from pre-trained chi-square scaler on new input features\n",
    "X_test_fs_chi_square = model_ensemble_experiment_4['new_input_feature_selection']['chi-square']['predictor'].transform(X_new_input_features)"
   ]
  },
  {
   "cell_type": "markdown",
   "id": "4261e2d3",
   "metadata": {},
   "source": [
    "#### PCA"
   ]
  },
  {
   "cell_type": "code",
   "execution_count": 26,
   "id": "8f77138d",
   "metadata": {},
   "outputs": [],
   "source": [
    "# do dimensionality reduction from pre-trained pca scaller on new input features\n",
    "X_test_pca = model_ensemble_experiment_4['new_input_feature_selection']['pca']['predictor'].transform(X_new_input_features)"
   ]
  },
  {
   "cell_type": "markdown",
   "id": "104ac8e8",
   "metadata": {},
   "source": [
    "### Feed selected new input features into ANN"
   ]
  },
  {
   "cell_type": "markdown",
   "id": "b843bf3c",
   "metadata": {},
   "source": [
    "#### Chi-Square"
   ]
  },
  {
   "cell_type": "code",
   "execution_count": 27,
   "id": "4273af55",
   "metadata": {},
   "outputs": [
    {
     "name": "stdout",
     "output_type": "stream",
     "text": [
      "\t\t==============================\n",
      "\t\tHASIl UJI COBA SKENARIO UJI COBA 4 (FEATURE SELECTION IN NEW INPUT FEATURES USING CHI-SQUARE)\n",
      "\t\t==============================\n",
      "\tAkurasi Score:  0.5347352024922118\n",
      "\tMacro Recall Score:  0.28656628835158565\n",
      "\tMacro Precision Score:  0.3001383211469059\n",
      "\tMacro F1-score Score:  0.28920186644122153\n",
      "\tMacro F2-score Score:  0.28691862760494924\n",
      "\tMacro F0.5-score Score:  0.2943455459354992\n",
      "\n",
      "\n",
      "              precision    recall  f1-score   support\n",
      "\n",
      "           0       0.11      0.11      0.11       326\n",
      "           1       0.21      0.12      0.15       657\n",
      "           2       0.17      0.21      0.19       716\n",
      "           3       0.70      0.76      0.73      3948\n",
      "           4       0.30      0.24      0.27       773\n",
      "\n",
      "    accuracy                           0.53      6420\n",
      "   macro avg       0.30      0.29      0.29      6420\n",
      "weighted avg       0.51      0.53      0.52      6420\n",
      "\n"
     ]
    },
    {
     "data": {
      "text/plain": [
       "<Figure size 1008x576 with 0 Axes>"
      ]
     },
     "metadata": {},
     "output_type": "display_data"
    },
    {
     "data": {
      "image/png": "[encoded data removed]",
      "text/plain": [
       "<Figure size 432x288 with 2 Axes>"
      ]
     },
     "metadata": {
      "needs_background": "light"
     },
     "output_type": "display_data"
    }
   ],
   "source": [
    "# predict new X test using pre-trained ANN before\n",
    "predicted_ann_testing_scenario_4_chi_square = model_ensemble_experiment_4['new_input_feature_selection']['chi-square']['ann'].predict(X_test_fs_chi_square)\n",
    "\n",
    "# print testing results\n",
    "print_model_experiment_results('Skenario Uji Coba 4 (Feature Selection in New Input Features using Chi-Square)', y_new_input_features, predicted_ann_testing_scenario_4_chi_square)"
   ]
  },
  {
   "cell_type": "markdown",
   "id": "b4bc4cfd",
   "metadata": {},
   "source": [
    "#### PCA"
   ]
  },
  {
   "cell_type": "code",
   "execution_count": 28,
   "id": "f0d8a4f2",
   "metadata": {},
   "outputs": [
    {
     "name": "stdout",
     "output_type": "stream",
     "text": [
      "\t\t==============================\n",
      "\t\tHASIl UJI COBA SKENARIO UJI COBA 4 (DIMENSIONALITY REDUCTION IN NEW INPUT FEATURES USING PCA)\n",
      "\t\t==============================\n",
      "\tAkurasi Score:  0.5811526479750779\n",
      "\tMacro Recall Score:  0.27687117647464277\n",
      "\tMacro Precision Score:  0.3240447433459205\n",
      "\tMacro F1-score Score:  0.284361628442591\n",
      "\tMacro F2-score Score:  0.2776261994431616\n",
      "\tMacro F0.5-score Score:  0.3014955252542042\n",
      "\n",
      "\n",
      "              precision    recall  f1-score   support\n",
      "\n",
      "           0       0.16      0.05      0.08       326\n",
      "           1       0.23      0.18      0.20       657\n",
      "           2       0.20      0.14      0.16       716\n",
      "           3       0.68      0.85      0.76      3948\n",
      "           4       0.35      0.16      0.22       773\n",
      "\n",
      "    accuracy                           0.58      6420\n",
      "   macro avg       0.32      0.28      0.28      6420\n",
      "weighted avg       0.52      0.58      0.54      6420\n",
      "\n"
     ]
    },
    {
     "data": {
      "text/plain": [
       "<Figure size 1008x576 with 0 Axes>"
      ]
     },
     "metadata": {},
     "output_type": "display_data"
    },
    {
     "data": {
      "image/png": "[encoded data removed]",
      "text/plain": [
       "<Figure size 432x288 with 2 Axes>"
      ]
     },
     "metadata": {
      "needs_background": "light"
     },
     "output_type": "display_data"
    }
   ],
   "source": [
    "# predict new X test using pre-trained ANN before\n",
    "predicted_ann_testing_scenario_4_pca = model_ensemble_experiment_4['new_input_feature_selection']['pca']['ann'].predict(X_test_pca)\n",
    "\n",
    "# print testing results\n",
    "print_model_experiment_results('Skenario Uji Coba 4 (Dimensionality Reduction in New Input Features using PCA)', y_new_input_features, predicted_ann_testing_scenario_4_pca)"
   ]
  },
  {
   "cell_type": "markdown",
   "id": "ecb20be5",
   "metadata": {},
   "source": [
    "## Uji Coba Skenario 5"
   ]
  },
  {
   "cell_type": "markdown",
   "id": "3e5a7569",
   "metadata": {},
   "source": [
    "### Load Data for Scenario 5 from model_ensemble_experiment_5.pkl"
   ]
  },
  {
   "cell_type": "code",
   "execution_count": 29,
   "id": "2124be7f",
   "metadata": {},
   "outputs": [],
   "source": [
    "X_train_scenario_5 = model_ensemble_experiment_5['data']['training']['X']\n",
    "y_train_scenario_5 = model_ensemble_experiment_5['data']['training']['y']\n",
    "X_test_scenario_5 = model_ensemble_experiment_5['data']['testing']['X']\n",
    "y_test_scenario_5 = model_ensemble_experiment_5['data']['testing']['y']"
   ]
  },
  {
   "cell_type": "markdown",
   "id": "0cf0a459",
   "metadata": {},
   "source": [
    "### Create new input features from stacking ensemble ML for training and testing data"
   ]
  },
  {
   "cell_type": "code",
   "execution_count": 30,
   "id": "e69d25ab",
   "metadata": {},
   "outputs": [
    {
     "name": "stdout",
     "output_type": "stream",
     "text": [
      "\t\t\t SVM\n",
      "\t\t\t LOGREG\n",
      "\t\t\t NAIVE_BAYES\n",
      "\t\t\t DECISION_TREE\n"
     ]
    }
   ],
   "source": [
    "new_input_training_features_scenario_5 = create_new_input_features(\n",
    "    model_ensemble_experiment_5['stacking_ensembles'], \n",
    "    X_train_scenario_5,\n",
    "    y_train_scenario_5\n",
    ")"
   ]
  },
  {
   "cell_type": "code",
   "execution_count": 31,
   "id": "1ae7a792",
   "metadata": {},
   "outputs": [
    {
     "name": "stdout",
     "output_type": "stream",
     "text": [
      "\t\t\t SVM\n",
      "\t\t\t LOGREG\n",
      "\t\t\t NAIVE_BAYES\n",
      "\t\t\t DECISION_TREE\n"
     ]
    }
   ],
   "source": [
    "new_input_testing_features_scenario_5 = create_new_input_features(\n",
    "    model_ensemble_experiment_5['stacking_ensembles'], \n",
    "    X_test_scenario_5,\n",
    "    y_test_scenario_5\n",
    ")"
   ]
  },
  {
   "cell_type": "markdown",
   "id": "5bd7b95f",
   "metadata": {},
   "source": [
    "### Print classification results from single bagging classifiers"
   ]
  },
  {
   "cell_type": "code",
   "execution_count": 32,
   "id": "bd5160d9",
   "metadata": {},
   "outputs": [],
   "source": [
    "X_new_input_training_features = new_input_training_features_scenario_5.drop(['ground_truth'],axis=1)\n",
    "y_ground_truth_training_features = new_input_training_features_scenario_5['ground_truth'].copy()\n",
    "\n",
    "X_new_input_testing_features = new_input_testing_features_scenario_5.drop(['ground_truth'],axis=1)\n",
    "y_ground_truth_testing_features = new_input_testing_features_scenario_5['ground_truth'].copy()"
   ]
  },
  {
   "cell_type": "markdown",
   "id": "ba104291",
   "metadata": {},
   "source": [
    "#### New Input feature on Training Data"
   ]
  },
  {
   "cell_type": "code",
   "execution_count": 33,
   "id": "d7512538",
   "metadata": {
    "scrolled": false
   },
   "outputs": [
    {
     "name": "stdout",
     "output_type": "stream",
     "text": [
      "\t\t==============================\n",
      "\t\tHASIl UJI COBA SKENARIO UJI COBA 5 (MAJORITY_VOTE_FROM_SVM BAGGING VOTING) ON TRAINING DATA\n",
      "\t\t==============================\n",
      "\tAkurasi Score:  0.624557655071109\n",
      "\tMacro Recall Score:  0.22087585244894758\n",
      "\tMacro Precision Score:  0.32187605092489163\n",
      "\tMacro F1-score Score:  0.1911125473638108\n",
      "\tMacro F2-score Score:  0.20437273701774167\n",
      "\tMacro F0.5-score Score:  0.19984465669782034\n",
      "\n",
      "\n",
      "              precision    recall  f1-score   support\n",
      "\n",
      "           0       0.00      0.00      0.00       761\n",
      "           1       0.48      0.01      0.02      1532\n",
      "           2       0.00      0.00      0.00      1670\n",
      "           3       0.63      0.99      0.77      9210\n",
      "           4       0.50      0.10      0.17      1804\n",
      "\n",
      "    accuracy                           0.62     14977\n",
      "   macro avg       0.32      0.22      0.19     14977\n",
      "weighted avg       0.50      0.62      0.50     14977\n",
      "\n"
     ]
    },
    {
     "name": "stderr",
     "output_type": "stream",
     "text": [
      "C:\\Users\\ASUS\\anaconda3\\envs\\S2_computational_intelligence_ensemble_daun_singkong\\lib\\site-packages\\sklearn\\metrics\\_classification.py:1334: UndefinedMetricWarning: Precision is ill-defined and being set to 0.0 in labels with no predicted samples. Use `zero_division` parameter to control this behavior.\n",
      "  _warn_prf(average, modifier, msg_start, len(result))\n",
      "C:\\Users\\ASUS\\anaconda3\\envs\\S2_computational_intelligence_ensemble_daun_singkong\\lib\\site-packages\\sklearn\\metrics\\_classification.py:1334: UndefinedMetricWarning: Precision and F-score are ill-defined and being set to 0.0 in labels with no predicted samples. Use `zero_division` parameter to control this behavior.\n",
      "  _warn_prf(average, modifier, msg_start, len(result))\n",
      "C:\\Users\\ASUS\\anaconda3\\envs\\S2_computational_intelligence_ensemble_daun_singkong\\lib\\site-packages\\sklearn\\metrics\\_classification.py:1334: UndefinedMetricWarning: Precision and F-score are ill-defined and being set to 0.0 in labels with no predicted samples. Use `zero_division` parameter to control this behavior.\n",
      "  _warn_prf(average, modifier, msg_start, len(result))\n",
      "C:\\Users\\ASUS\\anaconda3\\envs\\S2_computational_intelligence_ensemble_daun_singkong\\lib\\site-packages\\sklearn\\metrics\\_classification.py:1334: UndefinedMetricWarning: Precision and F-score are ill-defined and being set to 0.0 in labels with no predicted samples. Use `zero_division` parameter to control this behavior.\n",
      "  _warn_prf(average, modifier, msg_start, len(result))\n"
     ]
    },
    {
     "data": {
      "text/plain": [
       "<Figure size 1008x576 with 0 Axes>"
      ]
     },
     "metadata": {},
     "output_type": "display_data"
    },
    {
     "data": {
      "image/png": "[encoded data removed]",
      "text/plain": [
       "<Figure size 432x288 with 2 Axes>"
      ]
     },
     "metadata": {
      "needs_background": "light"
     },
     "output_type": "display_data"
    },
    {
     "name": "stdout",
     "output_type": "stream",
     "text": [
      "\t\t==============================\n",
      "\t\tHASIl UJI COBA SKENARIO UJI COBA 5 (MAJORITY_VOTE_FROM_LOGREG BAGGING VOTING) ON TRAINING DATA\n",
      "\t\t==============================\n",
      "\tAkurasi Score:  0.6256927288509048\n",
      "\tMacro Recall Score:  0.24001352871355386\n",
      "\tMacro Precision Score:  0.3859217587589658\n",
      "\tMacro F1-score Score:  0.22333147265115447\n",
      "\tMacro F2-score Score:  0.2286680680827701\n",
      "\tMacro F0.5-score Score:  0.24266175912961474\n",
      "\n",
      "\n",
      "              precision    recall  f1-score   support\n",
      "\n",
      "           0       0.21      0.01      0.03       761\n",
      "           1       0.34      0.04      0.08      1532\n",
      "           2       0.33      0.00      0.00      1670\n",
      "           3       0.64      0.98      0.78      9210\n",
      "           4       0.41      0.16      0.23      1804\n",
      "\n",
      "    accuracy                           0.63     14977\n",
      "   macro avg       0.39      0.24      0.22     14977\n",
      "weighted avg       0.53      0.63      0.51     14977\n",
      "\n"
     ]
    },
    {
     "data": {
      "text/plain": [
       "<Figure size 1008x576 with 0 Axes>"
      ]
     },
     "metadata": {},
     "output_type": "display_data"
    },
    {
     "data": {
      "image/png": "[encoded data removed]",
      "text/plain": [
       "<Figure size 432x288 with 2 Axes>"
      ]
     },
     "metadata": {
      "needs_background": "light"
     },
     "output_type": "display_data"
    },
    {
     "name": "stdout",
     "output_type": "stream",
     "text": [
      "\t\t==============================\n",
      "\t\tHASIl UJI COBA SKENARIO UJI COBA 5 (MAJORITY_VOTE_FROM_NAIVE_BAYES BAGGING VOTING) ON TRAINING DATA\n",
      "\t\t==============================\n",
      "\tAkurasi Score:  0.6149429124657808\n",
      "\tMacro Recall Score:  0.2001088327762705\n",
      "\tMacro Precision Score:  0.1730080812128498\n",
      "\tMacro F1-score Score:  0.15258229567257994\n",
      "\tMacro F2-score Score:  0.17789839632159046\n",
      "\tMacro F0.5-score Score:  0.133912759903964\n",
      "\n",
      "\n",
      "              precision    recall  f1-score   support\n",
      "\n",
      "           0       0.00      0.00      0.00       761\n",
      "           1       0.25      0.00      0.00      1532\n",
      "           2       0.00      0.00      0.00      1670\n",
      "           3       0.62      1.00      0.76      9210\n",
      "           4       0.00      0.00      0.00      1804\n",
      "\n",
      "    accuracy                           0.61     14977\n",
      "   macro avg       0.17      0.20      0.15     14977\n",
      "weighted avg       0.40      0.61      0.47     14977\n",
      "\n"
     ]
    },
    {
     "name": "stderr",
     "output_type": "stream",
     "text": [
      "C:\\Users\\ASUS\\anaconda3\\envs\\S2_computational_intelligence_ensemble_daun_singkong\\lib\\site-packages\\sklearn\\metrics\\_classification.py:1334: UndefinedMetricWarning: Precision is ill-defined and being set to 0.0 in labels with no predicted samples. Use `zero_division` parameter to control this behavior.\n",
      "  _warn_prf(average, modifier, msg_start, len(result))\n",
      "C:\\Users\\ASUS\\anaconda3\\envs\\S2_computational_intelligence_ensemble_daun_singkong\\lib\\site-packages\\sklearn\\metrics\\_classification.py:1334: UndefinedMetricWarning: Precision and F-score are ill-defined and being set to 0.0 in labels with no predicted samples. Use `zero_division` parameter to control this behavior.\n",
      "  _warn_prf(average, modifier, msg_start, len(result))\n",
      "C:\\Users\\ASUS\\anaconda3\\envs\\S2_computational_intelligence_ensemble_daun_singkong\\lib\\site-packages\\sklearn\\metrics\\_classification.py:1334: UndefinedMetricWarning: Precision and F-score are ill-defined and being set to 0.0 in labels with no predicted samples. Use `zero_division` parameter to control this behavior.\n",
      "  _warn_prf(average, modifier, msg_start, len(result))\n",
      "C:\\Users\\ASUS\\anaconda3\\envs\\S2_computational_intelligence_ensemble_daun_singkong\\lib\\site-packages\\sklearn\\metrics\\_classification.py:1334: UndefinedMetricWarning: Precision and F-score are ill-defined and being set to 0.0 in labels with no predicted samples. Use `zero_division` parameter to control this behavior.\n",
      "  _warn_prf(average, modifier, msg_start, len(result))\n"
     ]
    },
    {
     "data": {
      "text/plain": [
       "<Figure size 1008x576 with 0 Axes>"
      ]
     },
     "metadata": {},
     "output_type": "display_data"
    },
    {
     "data": {
      "image/png": "[encoded data removed]",
      "text/plain": [
       "<Figure size 432x288 with 2 Axes>"
      ]
     },
     "metadata": {
      "needs_background": "light"
     },
     "output_type": "display_data"
    },
    {
     "name": "stdout",
     "output_type": "stream",
     "text": [
      "\t\t==============================\n",
      "\t\tHASIl UJI COBA SKENARIO UJI COBA 5 (MAJORITY_VOTE_FROM_DECISION_TREE BAGGING VOTING) ON TRAINING DATA\n",
      "\t\t==============================\n",
      "\tAkurasi Score:  1.0\n",
      "\tMacro Recall Score:  1.0\n",
      "\tMacro Precision Score:  1.0\n",
      "\tMacro F1-score Score:  1.0\n",
      "\tMacro F2-score Score:  1.0\n",
      "\tMacro F0.5-score Score:  1.0\n",
      "\n",
      "\n",
      "              precision    recall  f1-score   support\n",
      "\n",
      "           0       1.00      1.00      1.00       761\n",
      "           1       1.00      1.00      1.00      1532\n",
      "           2       1.00      1.00      1.00      1670\n",
      "           3       1.00      1.00      1.00      9210\n",
      "           4       1.00      1.00      1.00      1804\n",
      "\n",
      "    accuracy                           1.00     14977\n",
      "   macro avg       1.00      1.00      1.00     14977\n",
      "weighted avg       1.00      1.00      1.00     14977\n",
      "\n"
     ]
    },
    {
     "data": {
      "text/plain": [
       "<Figure size 1008x576 with 0 Axes>"
      ]
     },
     "metadata": {},
     "output_type": "display_data"
    },
    {
     "data": {
      "image/png": "[encoded data removed]",
      "text/plain": [
       "<Figure size 432x288 with 2 Axes>"
      ]
     },
     "metadata": {
      "needs_background": "light"
     },
     "output_type": "display_data"
    }
   ],
   "source": [
    "for model in X_new_input_training_features.keys():\n",
    "    print_model_experiment_results('Skenario Uji Coba 5 ({} Bagging Voting) on Training Data'.format(model), y_ground_truth_training_features, X_new_input_training_features[model])"
   ]
  },
  {
   "cell_type": "markdown",
   "id": "a2799bb0",
   "metadata": {},
   "source": [
    "#### New Input feature on Testing Data"
   ]
  },
  {
   "cell_type": "code",
   "execution_count": 34,
   "id": "7ec6d36a",
   "metadata": {
    "scrolled": false
   },
   "outputs": [
    {
     "name": "stdout",
     "output_type": "stream",
     "text": [
      "\t\t==============================\n",
      "\t\tHASIl UJI COBA SKENARIO UJI COBA 5 (MAJORITY_VOTE_FROM_SVM BAGGING VOTING) ON TESTING DATA\n",
      "\t\t==============================\n",
      "\tAkurasi Score:  0.6244548286604361\n",
      "\tMacro Recall Score:  0.2205176659369897\n",
      "\tMacro Precision Score:  0.3165136732026144\n",
      "\tMacro F1-score Score:  0.19074341924568322\n",
      "\tMacro F2-score Score:  0.20398876559814486\n",
      "\tMacro F0.5-score Score:  0.2001211258567391\n",
      "\n",
      "\n",
      "              precision    recall  f1-score   support\n",
      "\n",
      "           0       0.00      0.00      0.00       326\n",
      "           1       0.47      0.01      0.02       657\n",
      "           2       0.00      0.00      0.00       716\n",
      "           3       0.63      0.99      0.77      3948\n",
      "           4       0.48      0.10      0.16       773\n",
      "\n",
      "    accuracy                           0.62      6420\n",
      "   macro avg       0.32      0.22      0.19      6420\n",
      "weighted avg       0.49      0.62      0.50      6420\n",
      "\n"
     ]
    },
    {
     "name": "stderr",
     "output_type": "stream",
     "text": [
      "C:\\Users\\ASUS\\anaconda3\\envs\\S2_computational_intelligence_ensemble_daun_singkong\\lib\\site-packages\\sklearn\\metrics\\_classification.py:1334: UndefinedMetricWarning: Precision is ill-defined and being set to 0.0 in labels with no predicted samples. Use `zero_division` parameter to control this behavior.\n",
      "  _warn_prf(average, modifier, msg_start, len(result))\n",
      "C:\\Users\\ASUS\\anaconda3\\envs\\S2_computational_intelligence_ensemble_daun_singkong\\lib\\site-packages\\sklearn\\metrics\\_classification.py:1334: UndefinedMetricWarning: Precision and F-score are ill-defined and being set to 0.0 in labels with no predicted samples. Use `zero_division` parameter to control this behavior.\n",
      "  _warn_prf(average, modifier, msg_start, len(result))\n",
      "C:\\Users\\ASUS\\anaconda3\\envs\\S2_computational_intelligence_ensemble_daun_singkong\\lib\\site-packages\\sklearn\\metrics\\_classification.py:1334: UndefinedMetricWarning: Precision and F-score are ill-defined and being set to 0.0 in labels with no predicted samples. Use `zero_division` parameter to control this behavior.\n",
      "  _warn_prf(average, modifier, msg_start, len(result))\n",
      "C:\\Users\\ASUS\\anaconda3\\envs\\S2_computational_intelligence_ensemble_daun_singkong\\lib\\site-packages\\sklearn\\metrics\\_classification.py:1334: UndefinedMetricWarning: Precision and F-score are ill-defined and being set to 0.0 in labels with no predicted samples. Use `zero_division` parameter to control this behavior.\n",
      "  _warn_prf(average, modifier, msg_start, len(result))\n"
     ]
    },
    {
     "data": {
      "text/plain": [
       "<Figure size 1008x576 with 0 Axes>"
      ]
     },
     "metadata": {},
     "output_type": "display_data"
    },
    {
     "data": {
      "image/png": "[encoded data removed]",
      "text/plain": [
       "<Figure size 432x288 with 2 Axes>"
      ]
     },
     "metadata": {
      "needs_background": "light"
     },
     "output_type": "display_data"
    },
    {
     "name": "stdout",
     "output_type": "stream",
     "text": [
      "\t\t==============================\n",
      "\t\tHASIl UJI COBA SKENARIO UJI COBA 5 (MAJORITY_VOTE_FROM_LOGREG BAGGING VOTING) ON TESTING DATA\n",
      "\t\t==============================\n",
      "\tAkurasi Score:  0.6239875389408099\n",
      "\tMacro Recall Score:  0.23884270665394752\n",
      "\tMacro Precision Score:  0.40803605052175873\n",
      "\tMacro F1-score Score:  0.22221125939662545\n",
      "\tMacro F2-score Score:  0.22757566881352656\n",
      "\tMacro F0.5-score Score:  0.24074224336165811\n",
      "\n",
      "\n",
      "              precision    recall  f1-score   support\n",
      "\n",
      "           0       0.14      0.01      0.02       326\n",
      "           1       0.38      0.06      0.10       657\n",
      "           2       0.50      0.00      0.00       716\n",
      "           3       0.64      0.97      0.77      3948\n",
      "           4       0.38      0.15      0.22       773\n",
      "\n",
      "    accuracy                           0.62      6420\n",
      "   macro avg       0.41      0.24      0.22      6420\n",
      "weighted avg       0.54      0.62      0.51      6420\n",
      "\n"
     ]
    },
    {
     "data": {
      "text/plain": [
       "<Figure size 1008x576 with 0 Axes>"
      ]
     },
     "metadata": {},
     "output_type": "display_data"
    },
    {
     "data": {
      "image/png": "[encoded data removed]",
      "text/plain": [
       "<Figure size 432x288 with 2 Axes>"
      ]
     },
     "metadata": {
      "needs_background": "light"
     },
     "output_type": "display_data"
    },
    {
     "name": "stdout",
     "output_type": "stream",
     "text": [
      "\t\t==============================\n",
      "\t\tHASIl UJI COBA SKENARIO UJI COBA 5 (MAJORITY_VOTE_FROM_NAIVE_BAYES BAGGING VOTING) ON TESTING DATA\n",
      "\t\t==============================\n",
      "\tAkurasi Score:  0.6151090342679127\n",
      "\tMacro Recall Score:  0.2005581694447914\n",
      "\tMacro Precision Score:  0.22303615960099749\n",
      "\tMacro F1-score Score:  0.1535452932325383\n",
      "\tMacro F2-score Score:  0.1784886248171474\n",
      "\tMacro F0.5-score Score:  0.13626232608401995\n",
      "\n",
      "\n",
      "              precision    recall  f1-score   support\n",
      "\n",
      "           0       0.00      0.00      0.00       326\n",
      "           1       0.50      0.00      0.01       657\n",
      "           2       0.00      0.00      0.00       716\n",
      "           3       0.62      1.00      0.76      3948\n",
      "           4       0.00      0.00      0.00       773\n",
      "\n",
      "    accuracy                           0.62      6420\n",
      "   macro avg       0.22      0.20      0.15      6420\n",
      "weighted avg       0.43      0.62      0.47      6420\n",
      "\n"
     ]
    },
    {
     "name": "stderr",
     "output_type": "stream",
     "text": [
      "C:\\Users\\ASUS\\anaconda3\\envs\\S2_computational_intelligence_ensemble_daun_singkong\\lib\\site-packages\\sklearn\\metrics\\_classification.py:1334: UndefinedMetricWarning: Precision is ill-defined and being set to 0.0 in labels with no predicted samples. Use `zero_division` parameter to control this behavior.\n",
      "  _warn_prf(average, modifier, msg_start, len(result))\n",
      "C:\\Users\\ASUS\\anaconda3\\envs\\S2_computational_intelligence_ensemble_daun_singkong\\lib\\site-packages\\sklearn\\metrics\\_classification.py:1334: UndefinedMetricWarning: Precision and F-score are ill-defined and being set to 0.0 in labels with no predicted samples. Use `zero_division` parameter to control this behavior.\n",
      "  _warn_prf(average, modifier, msg_start, len(result))\n",
      "C:\\Users\\ASUS\\anaconda3\\envs\\S2_computational_intelligence_ensemble_daun_singkong\\lib\\site-packages\\sklearn\\metrics\\_classification.py:1334: UndefinedMetricWarning: Precision and F-score are ill-defined and being set to 0.0 in labels with no predicted samples. Use `zero_division` parameter to control this behavior.\n",
      "  _warn_prf(average, modifier, msg_start, len(result))\n",
      "C:\\Users\\ASUS\\anaconda3\\envs\\S2_computational_intelligence_ensemble_daun_singkong\\lib\\site-packages\\sklearn\\metrics\\_classification.py:1334: UndefinedMetricWarning: Precision and F-score are ill-defined and being set to 0.0 in labels with no predicted samples. Use `zero_division` parameter to control this behavior.\n",
      "  _warn_prf(average, modifier, msg_start, len(result))\n"
     ]
    },
    {
     "data": {
      "text/plain": [
       "<Figure size 1008x576 with 0 Axes>"
      ]
     },
     "metadata": {},
     "output_type": "display_data"
    },
    {
     "data": {
      "image/png": "[encoded data removed]",
      "text/plain": [
       "<Figure size 432x288 with 2 Axes>"
      ]
     },
     "metadata": {
      "needs_background": "light"
     },
     "output_type": "display_data"
    },
    {
     "name": "stdout",
     "output_type": "stream",
     "text": [
      "\t\t==============================\n",
      "\t\tHASIl UJI COBA SKENARIO UJI COBA 5 (MAJORITY_VOTE_FROM_DECISION_TREE BAGGING VOTING) ON TESTING DATA\n",
      "\t\t==============================\n",
      "\tAkurasi Score:  0.571183800623053\n",
      "\tMacro Recall Score:  0.30577894503596076\n",
      "\tMacro Precision Score:  0.3298630980957194\n",
      "\tMacro F1-score Score:  0.3126370018617243\n",
      "\tMacro F2-score Score:  0.3075937245516281\n",
      "\tMacro F0.5-score Score:  0.3213027148082419\n",
      "\n",
      "\n",
      "              precision    recall  f1-score   support\n",
      "\n",
      "           0       0.15      0.13      0.14       326\n",
      "           1       0.24      0.22      0.23       657\n",
      "           2       0.21      0.15      0.17       716\n",
      "           3       0.71      0.81      0.76      3948\n",
      "           4       0.35      0.21      0.26       773\n",
      "\n",
      "    accuracy                           0.57      6420\n",
      "   macro avg       0.33      0.31      0.31      6420\n",
      "weighted avg       0.53      0.57      0.55      6420\n",
      "\n"
     ]
    },
    {
     "data": {
      "text/plain": [
       "<Figure size 1008x576 with 0 Axes>"
      ]
     },
     "metadata": {},
     "output_type": "display_data"
    },
    {
     "data": {
      "image/png": "[encoded data removed]",
      "text/plain": [
       "<Figure size 432x288 with 2 Axes>"
      ]
     },
     "metadata": {
      "needs_background": "light"
     },
     "output_type": "display_data"
    }
   ],
   "source": [
    "for model in X_new_input_testing_features.keys():\n",
    "    print_model_experiment_results('Skenario Uji Coba 5 ({} Bagging Voting) on Testing Data'.format(model), y_ground_truth_testing_features, X_new_input_testing_features[model])"
   ]
  },
  {
   "cell_type": "code",
   "execution_count": null,
   "id": "17423e36",
   "metadata": {},
   "outputs": [],
   "source": []
  }
 ],
 "metadata": {
  "kernelspec": {
   "display_name": "S2_computational_intelligence_ensemble_daun_singkong",
   "language": "python",
   "name": "s2_computational_intelligence_ensemble_daun_singkong"
  },
  "language_info": {
   "codemirror_mode": {
    "name": "ipython",
    "version": 3
   },
   "file_extension": ".py",
   "mimetype": "text/x-python",
   "name": "python",
   "nbconvert_exporter": "python",
   "pygments_lexer": "ipython3",
   "version": "3.10.4"
  },
  "toc": {
   "base_numbering": 1,
   "nav_menu": {},
   "number_sections": true,
   "sideBar": true,
   "skip_h1_title": false,
   "title_cell": "Table of Contents",
   "title_sidebar": "Contents",
   "toc_cell": false,
   "toc_position": {
    "height": "calc(100% - 180px)",
    "left": "10px",
    "top": "150px",
    "width": "218.125px"
   },
   "toc_section_display": true,
   "toc_window_display": false
  }
 },
 "nbformat": 4,
 "nbformat_minor": 5
}
