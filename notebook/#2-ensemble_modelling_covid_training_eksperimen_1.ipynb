{
 "cells": [
  {
   "cell_type": "markdown",
   "id": "0957637a",
   "metadata": {},
   "source": [
    "# Introduction\n",
    "***\n",
    "Notebook **#2-ensemble_modelling_daun_singkong_eksperimen_1** mengimplementasikan sesuai tahapan yang diusulkan dari paper acuan"
   ]
  },
  {
   "cell_type": "markdown",
   "id": "16886a07",
   "metadata": {},
   "source": [
    "# Import Libraries"
   ]
  },
  {
   "cell_type": "code",
   "execution_count": 20,
   "id": "938be0f2",
   "metadata": {},
   "outputs": [],
   "source": [
    "import pandas as pd\n",
    "import numpy as np\n",
    "\n",
    "# sklearn for utilization\n",
    "from sklearn.metrics import accuracy_score, classification_report, confusion_matrix, ConfusionMatrixDisplay, recall_score, precision_score, fbeta_score\n",
    "from sklearn.model_selection import StratifiedKFold\n",
    "\n",
    "# modelling for ensemble method\n",
    "from sklearn.naive_bayes import MultinomialNB\n",
    "from sklearn.tree import DecisionTreeClassifier\n",
    "from sklearn.svm import SVC\n",
    "from sklearn.linear_model import LogisticRegression\n",
    "from sklearn.neural_network import MLPClassifier\n",
    "\n",
    "# visualization purpose\n",
    "import matplotlib.pyplot as plt\n",
    "\n",
    "# utils\n",
    "import pickle\n",
    "\n",
    "#\n",
    "from models.model_ensembles import EnsembleStacking"
   ]
  },
  {
   "cell_type": "markdown",
   "id": "eaaa805d",
   "metadata": {},
   "source": [
    "# Load Data After Preprocessing"
   ]
  },
  {
   "cell_type": "code",
   "execution_count": 2,
   "id": "1ff97c61",
   "metadata": {},
   "outputs": [],
   "source": [
    "dataset_daun_singkong_after_preprocessing = pickle.load(open('../dataset/data_covid_after_preprocessing.pkl', 'rb'))\n",
    "X_train = dataset_daun_singkong_after_preprocessing['training']['X']\n",
    "y_train = dataset_daun_singkong_after_preprocessing['training']['y']\n",
    "X_test = dataset_daun_singkong_after_preprocessing['testing']['X']\n",
    "y_test = dataset_daun_singkong_after_preprocessing['testing']['y']"
   ]
  },
  {
   "cell_type": "code",
   "execution_count": 3,
   "id": "52b499eb",
   "metadata": {},
   "outputs": [],
   "source": [
    "# sampling data\n",
    "# X_train = X_train[:1000]\n",
    "# X_test = X_test[:1000]\n",
    "# y_train = y_train[:1000]\n",
    "# y_test = y_train[:1000]"
   ]
  },
  {
   "cell_type": "markdown",
   "id": "32c0772a",
   "metadata": {},
   "source": [
    "# Defining Global Variables "
   ]
  },
  {
   "cell_type": "code",
   "execution_count": 4,
   "id": "1da3f3e4",
   "metadata": {},
   "outputs": [],
   "source": [
    "kfold = StratifiedKFold(n_splits=5, random_state=45, shuffle=True)\n",
    "\n",
    "# global variables for MLP\n",
    "max_iter=400 \n",
    "batch_size=32 \n",
    "verbose=1\n",
    "n_iter_no_change=20"
   ]
  },
  {
   "cell_type": "markdown",
   "id": "290b5da7",
   "metadata": {},
   "source": [
    "# Defining Global Functions"
   ]
  },
  {
   "cell_type": "code",
   "execution_count": 5,
   "id": "83d1fd74",
   "metadata": {},
   "outputs": [],
   "source": [
    "def create_new_input_training_features(ensemble_classifiers, X, y):\n",
    "    all_predicted_results = dict()\n",
    "    list_of_majority_voting_each_models = list()\n",
    "\n",
    "    for model_name, models in ensemble_classifiers.items():\n",
    "        print(\"\\t\\t\\t\", model_name.upper())\n",
    "\n",
    "        # voting scenario for new data input prepration for ANN model\n",
    "        if len(models)!=0:\n",
    "            all_predicted_results[model_name] = dict()\n",
    "            for sub_model_name, dict_models in models.items():\n",
    "                all_predicted_results[model_name][sub_model_name] = dict_models['train'].predict(X)\n",
    "\n",
    "            # make dataframe for 5 model prediction results on X and get the mode label for that 5 prediction\n",
    "            model_df_voting = pd.DataFrame(all_predicted_results[model_name]).mode(axis=1)[0]\n",
    "            model_df_voting.columns = ['majority_vote_from_'+model_name]\n",
    "            list_of_majority_voting_each_models.append(model_df_voting)\n",
    "            \n",
    "    new_input_features = pd.concat(list_of_majority_voting_each_models, axis=1)\n",
    "    new_input_features['ground_truth'] = y.copy()\n",
    "            \n",
    "    return new_input_features"
   ]
  },
  {
   "cell_type": "markdown",
   "id": "033a9ea9",
   "metadata": {},
   "source": [
    "# Modelling"
   ]
  },
  {
   "cell_type": "markdown",
   "id": "1aa9d439",
   "metadata": {},
   "source": [
    "## Create Stacking ML Ensemble from 5-fold cross-validation"
   ]
  },
  {
   "cell_type": "code",
   "execution_count": 6,
   "id": "a5cddaaa",
   "metadata": {},
   "outputs": [],
   "source": [
    "ensemble_classifiers = EnsembleStacking(X_train, y_train, X_test, y_test, kfold).train_ensemble()"
   ]
  },
  {
   "cell_type": "code",
   "execution_count": 7,
   "id": "ced8acb9",
   "metadata": {},
   "outputs": [
    {
     "data": {
      "text/plain": [
       "{'svm': {'model-1': {'train': SVC(),\n",
       "   'training': 0.7504006748207508,\n",
       "   'validation': 0.7422402159244265,\n",
       "   'testing': 0.7471264367816092},\n",
       "  'model-2': {'train': SVC(),\n",
       "   'training': 0.7483762125685365,\n",
       "   'validation': 0.7412280701754386,\n",
       "   'testing': 0.7455518815934499},\n",
       "  'model-3': {'train': SVC(),\n",
       "   'training': 0.7489666807254323,\n",
       "   'validation': 0.7473009446693657,\n",
       "   'testing': 0.7482286254133207},\n",
       "  'model-4': {'train': SVC(),\n",
       "   'training': 0.7515816111345424,\n",
       "   'validation': 0.7284075573549258,\n",
       "   'testing': 0.7463391591875296},\n",
       "  'model-5': {'train': SVC(),\n",
       "   'training': 0.7520242914979757,\n",
       "   'validation': 0.7188660141748228,\n",
       "   'testing': 0.7461817036687136}},\n",
       " 'logreg': {'model-1': {'train': LogisticRegression(solver='newton-cg'),\n",
       "   'training': 0.639139603542809,\n",
       "   'validation': 0.6508097165991903,\n",
       "   'testing': 0.6493465595969139},\n",
       "  'model-2': {'train': LogisticRegression(solver='newton-cg'),\n",
       "   'training': 0.6418388865457613,\n",
       "   'validation': 0.6403508771929824,\n",
       "   'testing': 0.6469847268146749},\n",
       "  'model-3': {'train': LogisticRegression(solver='newton-cg'),\n",
       "   'training': 0.6390552509489666,\n",
       "   'validation': 0.655195681511471,\n",
       "   'testing': 0.6469847268146749},\n",
       "  'model-4': {'train': LogisticRegression(solver='newton-cg'),\n",
       "   'training': 0.6435259384226065,\n",
       "   'validation': 0.6312415654520918,\n",
       "   'testing': 0.6498189261533617},\n",
       "  'model-5': {'train': LogisticRegression(solver='newton-cg'),\n",
       "   'training': 0.6470985155195681,\n",
       "   'validation': 0.6216672291596355,\n",
       "   'testing': 0.6482443709652024}},\n",
       " 'naive_bayes': {'model-1': {'train': MultinomialNB(),\n",
       "   'training': 0.4814002530577815,\n",
       "   'validation': 0.48144399460188936,\n",
       "   'testing': 0.4814989765391277},\n",
       "  'model-2': {'train': MultinomialNB(),\n",
       "   'training': 0.4814002530577815,\n",
       "   'validation': 0.48144399460188936,\n",
       "   'testing': 0.4814989765391277},\n",
       "  'model-3': {'train': MultinomialNB(),\n",
       "   'training': 0.48148460565162376,\n",
       "   'validation': 0.48110661268556004,\n",
       "   'testing': 0.4814989765391277},\n",
       "  'model-4': {'train': MultinomialNB(),\n",
       "   'training': 0.4814002530577815,\n",
       "   'validation': 0.48144399460188936,\n",
       "   'testing': 0.4814989765391277},\n",
       "  'model-5': {'train': MultinomialNB(),\n",
       "   'training': 0.48135964912280704,\n",
       "   'validation': 0.481606479919001,\n",
       "   'testing': 0.4814989765391277}},\n",
       " 'decision_tree': {'model-1': {'train': DecisionTreeClassifier(),\n",
       "   'training': 1.0,\n",
       "   'validation': 0.6265182186234818,\n",
       "   'testing': 0.6391119508738782},\n",
       "  'model-2': {'train': DecisionTreeClassifier(),\n",
       "   'training': 1.0,\n",
       "   'validation': 0.6356275303643725,\n",
       "   'testing': 0.6200598330971501},\n",
       "  'model-3': {'train': DecisionTreeClassifier(),\n",
       "   'training': 1.0,\n",
       "   'validation': 0.6234817813765182,\n",
       "   'testing': 0.6402141395055897},\n",
       "  'model-4': {'train': DecisionTreeClassifier(),\n",
       "   'training': 1.0,\n",
       "   'validation': 0.6285425101214575,\n",
       "   'testing': 0.6310817194142655},\n",
       "  'model-5': {'train': DecisionTreeClassifier(),\n",
       "   'training': 1.0,\n",
       "   'validation': 0.6101923725953425,\n",
       "   'testing': 0.6208471106912298}}}"
      ]
     },
     "execution_count": 7,
     "metadata": {},
     "output_type": "execute_result"
    }
   ],
   "source": [
    "ensemble_classifiers"
   ]
  },
  {
   "cell_type": "markdown",
   "id": "707b5655",
   "metadata": {},
   "source": [
    "## Create new input Training from the stacking ensemble ML"
   ]
  },
  {
   "cell_type": "code",
   "execution_count": 8,
   "id": "4246f094",
   "metadata": {},
   "outputs": [
    {
     "name": "stdout",
     "output_type": "stream",
     "text": [
      "\t\t\t SVM\n",
      "\t\t\t LOGREG\n",
      "\t\t\t NAIVE_BAYES\n",
      "\t\t\t DECISION_TREE\n"
     ]
    }
   ],
   "source": [
    "new_input_training_features = create_new_input_training_features(\n",
    "    ensemble_classifiers, \n",
    "    X_train,\n",
    "    y_train\n",
    ")"
   ]
  },
  {
   "cell_type": "code",
   "execution_count": 9,
   "id": "0dee34ae",
   "metadata": {},
   "outputs": [
    {
     "data": {
      "text/html": [
       "<div>\n",
       "<style scoped>\n",
       "    .dataframe tbody tr th:only-of-type {\n",
       "        vertical-align: middle;\n",
       "    }\n",
       "\n",
       "    .dataframe tbody tr th {\n",
       "        vertical-align: top;\n",
       "    }\n",
       "\n",
       "    .dataframe thead th {\n",
       "        text-align: right;\n",
       "    }\n",
       "</style>\n",
       "<table border=\"1\" class=\"dataframe\">\n",
       "  <thead>\n",
       "    <tr style=\"text-align: right;\">\n",
       "      <th></th>\n",
       "      <th>0</th>\n",
       "      <th>0</th>\n",
       "      <th>0</th>\n",
       "      <th>0</th>\n",
       "      <th>ground_truth</th>\n",
       "    </tr>\n",
       "  </thead>\n",
       "  <tbody>\n",
       "    <tr>\n",
       "      <th>0</th>\n",
       "      <td>2.0</td>\n",
       "      <td>2.0</td>\n",
       "      <td>2.0</td>\n",
       "      <td>1.0</td>\n",
       "      <td>1.0</td>\n",
       "    </tr>\n",
       "    <tr>\n",
       "      <th>1</th>\n",
       "      <td>0.0</td>\n",
       "      <td>2.0</td>\n",
       "      <td>2.0</td>\n",
       "      <td>0.0</td>\n",
       "      <td>0.0</td>\n",
       "    </tr>\n",
       "    <tr>\n",
       "      <th>2</th>\n",
       "      <td>2.0</td>\n",
       "      <td>2.0</td>\n",
       "      <td>2.0</td>\n",
       "      <td>2.0</td>\n",
       "      <td>2.0</td>\n",
       "    </tr>\n",
       "    <tr>\n",
       "      <th>3</th>\n",
       "      <td>1.0</td>\n",
       "      <td>1.0</td>\n",
       "      <td>2.0</td>\n",
       "      <td>2.0</td>\n",
       "      <td>2.0</td>\n",
       "    </tr>\n",
       "    <tr>\n",
       "      <th>4</th>\n",
       "      <td>2.0</td>\n",
       "      <td>2.0</td>\n",
       "      <td>2.0</td>\n",
       "      <td>2.0</td>\n",
       "      <td>2.0</td>\n",
       "    </tr>\n",
       "    <tr>\n",
       "      <th>...</th>\n",
       "      <td>...</td>\n",
       "      <td>...</td>\n",
       "      <td>...</td>\n",
       "      <td>...</td>\n",
       "      <td>...</td>\n",
       "    </tr>\n",
       "    <tr>\n",
       "      <th>14814</th>\n",
       "      <td>2.0</td>\n",
       "      <td>0.0</td>\n",
       "      <td>2.0</td>\n",
       "      <td>2.0</td>\n",
       "      <td>2.0</td>\n",
       "    </tr>\n",
       "    <tr>\n",
       "      <th>14815</th>\n",
       "      <td>2.0</td>\n",
       "      <td>2.0</td>\n",
       "      <td>2.0</td>\n",
       "      <td>1.0</td>\n",
       "      <td>1.0</td>\n",
       "    </tr>\n",
       "    <tr>\n",
       "      <th>14816</th>\n",
       "      <td>2.0</td>\n",
       "      <td>2.0</td>\n",
       "      <td>2.0</td>\n",
       "      <td>2.0</td>\n",
       "      <td>2.0</td>\n",
       "    </tr>\n",
       "    <tr>\n",
       "      <th>14817</th>\n",
       "      <td>0.0</td>\n",
       "      <td>0.0</td>\n",
       "      <td>2.0</td>\n",
       "      <td>0.0</td>\n",
       "      <td>0.0</td>\n",
       "    </tr>\n",
       "    <tr>\n",
       "      <th>14818</th>\n",
       "      <td>2.0</td>\n",
       "      <td>2.0</td>\n",
       "      <td>2.0</td>\n",
       "      <td>2.0</td>\n",
       "      <td>2.0</td>\n",
       "    </tr>\n",
       "  </tbody>\n",
       "</table>\n",
       "<p>14819 rows × 5 columns</p>\n",
       "</div>"
      ],
      "text/plain": [
       "         0    0    0    0  ground_truth\n",
       "0      2.0  2.0  2.0  1.0           1.0\n",
       "1      0.0  2.0  2.0  0.0           0.0\n",
       "2      2.0  2.0  2.0  2.0           2.0\n",
       "3      1.0  1.0  2.0  2.0           2.0\n",
       "4      2.0  2.0  2.0  2.0           2.0\n",
       "...    ...  ...  ...  ...           ...\n",
       "14814  2.0  0.0  2.0  2.0           2.0\n",
       "14815  2.0  2.0  2.0  1.0           1.0\n",
       "14816  2.0  2.0  2.0  2.0           2.0\n",
       "14817  0.0  0.0  2.0  0.0           0.0\n",
       "14818  2.0  2.0  2.0  2.0           2.0\n",
       "\n",
       "[14819 rows x 5 columns]"
      ]
     },
     "execution_count": 9,
     "metadata": {},
     "output_type": "execute_result"
    }
   ],
   "source": [
    "new_input_training_features"
   ]
  },
  {
   "cell_type": "markdown",
   "id": "9dc2e0ed",
   "metadata": {},
   "source": [
    "## Feed New Input features into ANN"
   ]
  },
  {
   "cell_type": "code",
   "execution_count": 10,
   "id": "1986bd95",
   "metadata": {},
   "outputs": [
    {
     "name": "stdout",
     "output_type": "stream",
     "text": [
      "Iteration 1, loss = 0.45889132\n",
      "Iteration 2, loss = 0.06730646\n",
      "Iteration 3, loss = 0.01790423\n",
      "Iteration 4, loss = 0.00750261\n",
      "Iteration 5, loss = 0.00367849\n",
      "Iteration 6, loss = 0.00210628\n",
      "Iteration 7, loss = 0.00135738\n",
      "Iteration 8, loss = 0.00094889\n",
      "Iteration 9, loss = 0.00070964\n",
      "Iteration 10, loss = 0.00055888\n",
      "Iteration 11, loss = 0.00046177\n",
      "Iteration 12, loss = 0.00039700\n",
      "Iteration 13, loss = 0.00035292\n",
      "Iteration 14, loss = 0.00032279\n",
      "Iteration 15, loss = 0.00030191\n",
      "Iteration 16, loss = 0.00028741\n",
      "Iteration 17, loss = 0.00027707\n",
      "Iteration 18, loss = 0.00026964\n",
      "Iteration 19, loss = 0.00026390\n",
      "Iteration 20, loss = 0.00025935\n",
      "Iteration 21, loss = 0.00025534\n",
      "Iteration 22, loss = 0.00025150\n",
      "Iteration 23, loss = 0.00024772\n",
      "Iteration 24, loss = 0.00024386\n",
      "Iteration 25, loss = 0.00023993\n",
      "Iteration 26, loss = 0.00023602\n",
      "Iteration 27, loss = 0.00023208\n",
      "Iteration 28, loss = 0.00022826\n",
      "Iteration 29, loss = 0.00022458\n",
      "Iteration 30, loss = 0.00022103\n",
      "Iteration 31, loss = 0.00021757\n",
      "Training loss did not improve more than tol=0.000100 for 20 consecutive epochs. Stopping.\n",
      "\n",
      "\n",
      "Final Accuracy Score [Mls Ensembles + ANN] on Training Data =  1.0\n"
     ]
    }
   ],
   "source": [
    "# split X and y from new_input_features before feeding to ANN\n",
    "new_X_train, new_y_train = new_input_training_features.drop(['ground_truth'],axis=1), new_input_training_features['ground_truth']\n",
    "# new_X_train, new_X_test, new_y_train, new_y_test = train_test_split(new_X, new_y, test_size=0.2, random_state=45)\n",
    "\n",
    "# feed new X and new y into ANN\n",
    "ann_model = MLPClassifier(max_iter=max_iter, batch_size=batch_size, verbose=verbose, n_iter_no_change=n_iter_no_change)\n",
    "ann_model.fit(new_X_train, new_y_train)\n",
    "\n",
    "predicted_ann_train = ann_model.predict(new_X_train)\n",
    "\n",
    "print()\n",
    "print()\n",
    "print(\"Final Accuracy Score [Mls Ensembles + ANN] on Training Data = \", accuracy_score(new_y_train, predicted_ann_train))"
   ]
  },
  {
   "cell_type": "markdown",
   "id": "b1fa3162",
   "metadata": {},
   "source": [
    "# Save Stacking Model Pretrained (MLs + ANN)"
   ]
  },
  {
   "cell_type": "code",
   "execution_count": 11,
   "id": "29b88a46",
   "metadata": {},
   "outputs": [],
   "source": [
    "# save trained ensemble stacking classifiers\n",
    "model_ensemble_experiment_1 = {\n",
    "    'stacking_ensembles': ensemble_classifiers,\n",
    "    'ann': ann_model,\n",
    "    'data': {\n",
    "        'training': {\n",
    "            'X': X_train,\n",
    "            'y': y_train\n",
    "        },\n",
    "        'testing': {\n",
    "            'X': X_test,\n",
    "            'y': y_test\n",
    "        }\n",
    "    }\n",
    "}\n",
    "pickle.dump(model_ensemble_experiment_1, open(\"model_ensemble_experiment_results/model_ensemble_eksperimen_1.pkl\", 'wb'))"
   ]
  },
  {
   "cell_type": "code",
   "execution_count": 13,
   "id": "3295af8d",
   "metadata": {},
   "outputs": [],
   "source": [
    "def create_new_input_features(ensemble_classifiers, X, y):\n",
    "    all_predicted_results = dict()\n",
    "    list_of_majority_voting_each_models = list()\n",
    "\n",
    "    for model_name, models in ensemble_classifiers.items():\n",
    "        print(\"\\t\\t\\t\", model_name.upper())\n",
    "\n",
    "        # voting scenario for new data input prepration for ANN model\n",
    "        if len(models)!=0:\n",
    "            all_predicted_results[model_name] = dict()\n",
    "            for sub_model_name, dict_models in models.items():\n",
    "                all_predicted_results[model_name][sub_model_name] = dict_models['train'].predict(X)\n",
    "\n",
    "            # make dataframe for 5 model prediction results on X and get the mode label for that 5 prediction\n",
    "            model_df_voting = pd.DataFrame(all_predicted_results[model_name]).mode(axis=1)[0]\n",
    "            model_df_voting.columns = ['majority_vote_from_'+model_name]\n",
    "            list_of_majority_voting_each_models.append(model_df_voting)\n",
    "            \n",
    "    new_input_features = pd.concat(list_of_majority_voting_each_models, axis=1)\n",
    "    new_input_features['ground_truth'] = y.copy()\n",
    "            \n",
    "    return new_input_features"
   ]
  },
  {
   "cell_type": "code",
   "execution_count": 14,
   "id": "cdd0303e",
   "metadata": {},
   "outputs": [
    {
     "name": "stdout",
     "output_type": "stream",
     "text": [
      "\t\t\t SVM\n",
      "\t\t\t LOGREG\n",
      "\t\t\t NAIVE_BAYES\n",
      "\t\t\t DECISION_TREE\n"
     ]
    }
   ],
   "source": [
    "new_input_testing_features_scenario_1_covid = create_new_input_features(\n",
    "    ensemble_classifiers, \n",
    "    X_test,\n",
    "    y_test\n",
    ")"
   ]
  },
  {
   "cell_type": "code",
   "execution_count": 16,
   "id": "76baebd0",
   "metadata": {},
   "outputs": [
    {
     "data": {
      "text/html": [
       "<div>\n",
       "<style scoped>\n",
       "    .dataframe tbody tr th:only-of-type {\n",
       "        vertical-align: middle;\n",
       "    }\n",
       "\n",
       "    .dataframe tbody tr th {\n",
       "        vertical-align: top;\n",
       "    }\n",
       "\n",
       "    .dataframe thead th {\n",
       "        text-align: right;\n",
       "    }\n",
       "</style>\n",
       "<table border=\"1\" class=\"dataframe\">\n",
       "  <thead>\n",
       "    <tr style=\"text-align: right;\">\n",
       "      <th></th>\n",
       "      <th>0</th>\n",
       "      <th>0</th>\n",
       "      <th>0</th>\n",
       "      <th>0</th>\n",
       "      <th>ground_truth</th>\n",
       "    </tr>\n",
       "  </thead>\n",
       "  <tbody>\n",
       "    <tr>\n",
       "      <th>0</th>\n",
       "      <td>1.0</td>\n",
       "      <td>1.0</td>\n",
       "      <td>2.0</td>\n",
       "      <td>1.0</td>\n",
       "      <td>1.0</td>\n",
       "    </tr>\n",
       "    <tr>\n",
       "      <th>1</th>\n",
       "      <td>2.0</td>\n",
       "      <td>2.0</td>\n",
       "      <td>2.0</td>\n",
       "      <td>2.0</td>\n",
       "      <td>2.0</td>\n",
       "    </tr>\n",
       "    <tr>\n",
       "      <th>2</th>\n",
       "      <td>2.0</td>\n",
       "      <td>2.0</td>\n",
       "      <td>2.0</td>\n",
       "      <td>2.0</td>\n",
       "      <td>2.0</td>\n",
       "    </tr>\n",
       "    <tr>\n",
       "      <th>3</th>\n",
       "      <td>0.0</td>\n",
       "      <td>2.0</td>\n",
       "      <td>2.0</td>\n",
       "      <td>0.0</td>\n",
       "      <td>0.0</td>\n",
       "    </tr>\n",
       "    <tr>\n",
       "      <th>4</th>\n",
       "      <td>1.0</td>\n",
       "      <td>1.0</td>\n",
       "      <td>2.0</td>\n",
       "      <td>1.0</td>\n",
       "      <td>1.0</td>\n",
       "    </tr>\n",
       "    <tr>\n",
       "      <th>...</th>\n",
       "      <td>...</td>\n",
       "      <td>...</td>\n",
       "      <td>...</td>\n",
       "      <td>...</td>\n",
       "      <td>...</td>\n",
       "    </tr>\n",
       "    <tr>\n",
       "      <th>6346</th>\n",
       "      <td>0.0</td>\n",
       "      <td>0.0</td>\n",
       "      <td>2.0</td>\n",
       "      <td>0.0</td>\n",
       "      <td>0.0</td>\n",
       "    </tr>\n",
       "    <tr>\n",
       "      <th>6347</th>\n",
       "      <td>1.0</td>\n",
       "      <td>2.0</td>\n",
       "      <td>2.0</td>\n",
       "      <td>1.0</td>\n",
       "      <td>2.0</td>\n",
       "    </tr>\n",
       "    <tr>\n",
       "      <th>6348</th>\n",
       "      <td>2.0</td>\n",
       "      <td>2.0</td>\n",
       "      <td>2.0</td>\n",
       "      <td>2.0</td>\n",
       "      <td>1.0</td>\n",
       "    </tr>\n",
       "    <tr>\n",
       "      <th>6349</th>\n",
       "      <td>2.0</td>\n",
       "      <td>3.0</td>\n",
       "      <td>2.0</td>\n",
       "      <td>2.0</td>\n",
       "      <td>2.0</td>\n",
       "    </tr>\n",
       "    <tr>\n",
       "      <th>6350</th>\n",
       "      <td>1.0</td>\n",
       "      <td>1.0</td>\n",
       "      <td>2.0</td>\n",
       "      <td>1.0</td>\n",
       "      <td>1.0</td>\n",
       "    </tr>\n",
       "  </tbody>\n",
       "</table>\n",
       "<p>6351 rows × 5 columns</p>\n",
       "</div>"
      ],
      "text/plain": [
       "        0    0    0    0  ground_truth\n",
       "0     1.0  1.0  2.0  1.0           1.0\n",
       "1     2.0  2.0  2.0  2.0           2.0\n",
       "2     2.0  2.0  2.0  2.0           2.0\n",
       "3     0.0  2.0  2.0  0.0           0.0\n",
       "4     1.0  1.0  2.0  1.0           1.0\n",
       "...   ...  ...  ...  ...           ...\n",
       "6346  0.0  0.0  2.0  0.0           0.0\n",
       "6347  1.0  2.0  2.0  1.0           2.0\n",
       "6348  2.0  2.0  2.0  2.0           1.0\n",
       "6349  2.0  3.0  2.0  2.0           2.0\n",
       "6350  1.0  1.0  2.0  1.0           1.0\n",
       "\n",
       "[6351 rows x 5 columns]"
      ]
     },
     "execution_count": 16,
     "metadata": {},
     "output_type": "execute_result"
    }
   ],
   "source": [
    "new_input_testing_features_scenario_1_covid"
   ]
  },
  {
   "cell_type": "code",
   "execution_count": 22,
   "id": "19e944a2",
   "metadata": {},
   "outputs": [],
   "source": [
    "def print_model_experiment_results(name_of_scenario, y_test, y_pred):\n",
    "    print('\\t\\t' + '='*30)\n",
    "    print('\\t\\tHASIl UJI COBA {}'.format(name_of_scenario.upper()))\n",
    "    print('\\t\\t' + '='*30)\n",
    "    print(\"\\tAkurasi Score: \", accuracy_score(y_test, y_pred))\n",
    "    print(\"\\tMacro Recall Score: \", recall_score(y_test, y_pred, average='macro'))\n",
    "    print(\"\\tMacro Precision Score: \", precision_score(y_test, y_pred, average='macro'))\n",
    "    print(\"\\tMacro F1-score Score: \", fbeta_score(y_test, y_pred, beta=1, average='macro'))\n",
    "    print(\"\\tMacro F2-score Score: \", fbeta_score(y_test, y_pred, beta=2, average='macro'))\n",
    "    print(\"\\tMacro F0.5-score Score: \", fbeta_score(y_test, y_pred, beta=0.5, average='macro'))\n",
    "    \n",
    "    print()\n",
    "    print()\n",
    "    print(classification_report(y_test, y_pred))\n",
    "    cm = confusion_matrix(y_test, y_pred)\n",
    "    disp = ConfusionMatrixDisplay(confusion_matrix=cm)\n",
    "    plt.figure(figsize=(14,8))\n",
    "    disp.plot()\n",
    "    plt.show()"
   ]
  },
  {
   "cell_type": "code",
   "execution_count": 23,
   "id": "6c6e9718",
   "metadata": {},
   "outputs": [
    {
     "name": "stdout",
     "output_type": "stream",
     "text": [
      "\t\t==============================\n",
      "\t\tHASIl UJI COBA SKENARIO UJI COBA 3\n",
      "\t\t==============================\n",
      "\tAkurasi Score:  0.7024090694378838\n",
      "\tMacro Recall Score:  0.6855559527516003\n",
      "\tMacro Precision Score:  0.7043903918949511\n",
      "\tMacro F1-score Score:  0.693397330846411\n",
      "\tMacro F2-score Score:  0.6883508885291854\n",
      "\tMacro F0.5-score Score:  0.6995738626393733\n",
      "\n",
      "\n",
      "              precision    recall  f1-score   support\n",
      "\n",
      "         0.0       0.65      0.70      0.67      1086\n",
      "         1.0       0.62      0.62      0.62      1804\n",
      "         2.0       0.77      0.76      0.76      3058\n",
      "         3.0       0.79      0.67      0.72       403\n",
      "\n",
      "    accuracy                           0.70      6351\n",
      "   macro avg       0.70      0.69      0.69      6351\n",
      "weighted avg       0.70      0.70      0.70      6351\n",
      "\n"
     ]
    },
    {
     "data": {
      "text/plain": [
       "<Figure size 1008x576 with 0 Axes>"
      ]
     },
     "metadata": {},
     "output_type": "display_data"
    },
    {
     "data": {
      "image/png": "[encoded data removed]",
      "text/plain": [
       "<Figure size 432x288 with 2 Axes>"
      ]
     },
     "metadata": {
      "needs_background": "light"
     },
     "output_type": "display_data"
    }
   ],
   "source": [
    "# split X and y from new_input_features before feeding to ANN\n",
    "new_X_test_scenario_3, new_y_test_scenario_3 = new_input_testing_features_scenario_1_covid.drop(['ground_truth'],axis=1), new_input_testing_features_scenario_1_covid['ground_truth']\n",
    "\n",
    "# predict new X test using pre-trained ANN before\n",
    "predicted_ann_testing_scenario_3 = ann_model.predict(new_X_test_scenario_3)\n",
    "\n",
    "# print testing results\n",
    "print_model_experiment_results('Skenario Uji Coba 3', new_y_test_scenario_3, predicted_ann_testing_scenario_3)"
   ]
  },
  {
   "cell_type": "code",
   "execution_count": null,
   "id": "8a0b8a2a",
   "metadata": {},
   "outputs": [],
   "source": []
  }
 ],
 "metadata": {
  "kernelspec": {
   "display_name": "S2_computational_intelligence_ensemble_daun_singkong",
   "language": "python",
   "name": "s2_computational_intelligence_ensemble_daun_singkong"
  },
  "language_info": {
   "codemirror_mode": {
    "name": "ipython",
    "version": 3
   },
   "file_extension": ".py",
   "mimetype": "text/x-python",
   "name": "python",
   "nbconvert_exporter": "python",
   "pygments_lexer": "ipython3",
   "version": "3.10.4"
  },
  "toc": {
   "base_numbering": 1,
   "nav_menu": {},
   "number_sections": true,
   "sideBar": true,
   "skip_h1_title": false,
   "title_cell": "Table of Contents",
   "title_sidebar": "Contents",
   "toc_cell": false,
   "toc_position": {},
   "toc_section_display": true,
   "toc_window_display": true
  }
 },
 "nbformat": 4,
 "nbformat_minor": 5
}
