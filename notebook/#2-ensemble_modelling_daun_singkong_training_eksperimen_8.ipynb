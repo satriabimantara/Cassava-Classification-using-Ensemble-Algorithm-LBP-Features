{
 "cells": [
  {
   "cell_type": "markdown",
   "id": "3cf1bc7f",
   "metadata": {},
   "source": [
    "# Introduction\n",
    "***\n",
    "Notebook **#2-ensemble_modelling_daun_singkong_eksperimen_8** berisi implementasi dari: <br>\n",
    "- Performa dari single classifier tanpa menggunakan ensemble method terhadap dataset Daun Singkong LBP\n",
    "- Single classifier yang diimplementasikan yaitu sesuai dari paper rujukan (SVM, LogReg, Decision Tree, dan Naive Bayes)\n"
   ]
  },
  {
   "cell_type": "markdown",
   "id": "16886a07",
   "metadata": {},
   "source": [
    "# Import Libraries"
   ]
  },
  {
   "cell_type": "code",
   "execution_count": 1,
   "id": "938be0f2",
   "metadata": {},
   "outputs": [],
   "source": [
    "import pandas as pd\n",
    "import numpy as np\n",
    "\n",
    "# sklearn for utilization\n",
    "from sklearn.metrics import accuracy_score, classification_report, confusion_matrix, ConfusionMatrixDisplay\n",
    "from sklearn.metrics import recall_score, precision_score, fbeta_score\n",
    "from sklearn.model_selection import StratifiedKFold\n",
    "\n",
    "# modelling for ensemble method\n",
    "from sklearn.naive_bayes import MultinomialNB\n",
    "from sklearn.tree import DecisionTreeClassifier\n",
    "from sklearn.svm import SVC\n",
    "from sklearn.linear_model import LogisticRegression\n",
    "from sklearn.neural_network import MLPClassifier\n",
    "\n",
    "# visualization purpose\n",
    "import matplotlib.pyplot as plt\n",
    "\n",
    "# utils\n",
    "import pickle\n",
    "\n",
    "#\n",
    "from models.model_ensembles import EnsembleStacking"
   ]
  },
  {
   "cell_type": "markdown",
   "id": "eaaa805d",
   "metadata": {},
   "source": [
    "# Load Data After Preprocessing"
   ]
  },
  {
   "cell_type": "code",
   "execution_count": 2,
   "id": "4dd7a660",
   "metadata": {},
   "outputs": [],
   "source": [
    "dataset_daun_singkong_after_preprocessing = pickle.load(open('../dataset/data_daun_singkong_after_preprocessing.pkl', 'rb'))\n",
    "X_train = dataset_daun_singkong_after_preprocessing['training']['X']\n",
    "y_train = dataset_daun_singkong_after_preprocessing['training']['y']\n",
    "X_test = dataset_daun_singkong_after_preprocessing['testing']['X']\n",
    "y_test = dataset_daun_singkong_after_preprocessing['testing']['y']"
   ]
  },
  {
   "cell_type": "code",
   "execution_count": 3,
   "id": "b1cb3af7",
   "metadata": {},
   "outputs": [],
   "source": [
    "# sampling data\n",
    "# X_train = X_train[:5000]\n",
    "# X_test = X_test[:5000]\n",
    "# y_train = y_train[:5000]\n",
    "# y_test = y_train[:5000]"
   ]
  },
  {
   "cell_type": "markdown",
   "id": "6eccdc39",
   "metadata": {},
   "source": [
    "# Defining Global Functions"
   ]
  },
  {
   "cell_type": "code",
   "execution_count": 4,
   "id": "54c23ad9",
   "metadata": {},
   "outputs": [],
   "source": [
    "def print_model_experiment_results(name_of_scenario, y_test, y_pred):\n",
    "    print('\\t\\t' + '='*30)\n",
    "    print('\\t\\tHASIl UJI COBA {}'.format(name_of_scenario.upper()))\n",
    "    print('\\t\\t' + '='*30)\n",
    "    print(\"\\tAkurasi Score: \", accuracy_score(y_test, y_pred))\n",
    "    print(\"\\tMacro Recall Score: \", recall_score(y_test, y_pred, average='macro'))\n",
    "    print(\"\\tMacro Precision Score: \", precision_score(y_test, y_pred, average='macro'))\n",
    "    print(\"\\tMacro F1-score Score: \", fbeta_score(y_test, y_pred, beta=1, average='macro'))\n",
    "    print(\"\\tMacro F2-score Score: \", fbeta_score(y_test, y_pred, beta=2, average='macro'))\n",
    "    print(\"\\tMacro F0.5-score Score: \", fbeta_score(y_test, y_pred, beta=0.5, average='macro'))\n",
    "    \n",
    "    print()\n",
    "    print()\n",
    "    print(classification_report(y_test, y_pred))\n",
    "    cm = confusion_matrix(y_test, y_pred)\n",
    "    disp = ConfusionMatrixDisplay(confusion_matrix=cm)\n",
    "    plt.figure(figsize=(14,8))\n",
    "    disp.plot()\n",
    "    plt.show()"
   ]
  },
  {
   "cell_type": "markdown",
   "id": "485c9cd9",
   "metadata": {},
   "source": [
    "# Modelling Single Classifiers"
   ]
  },
  {
   "cell_type": "markdown",
   "id": "30f06580",
   "metadata": {},
   "source": [
    "## SVM"
   ]
  },
  {
   "cell_type": "code",
   "execution_count": 5,
   "id": "5b8db049",
   "metadata": {},
   "outputs": [
    {
     "name": "stdout",
     "output_type": "stream",
     "text": [
      "\t\t==============================\n",
      "\t\tHASIl UJI COBA SVM SINGLE CLASSIFIER\n",
      "\t\t==============================\n",
      "\tAkurasi Score:  0.6341121495327103\n",
      "\tMacro Recall Score:  0.24217656041606048\n",
      "\tMacro Precision Score:  0.6729647898124899\n",
      "\tMacro F1-score Score:  0.2259486648639509\n",
      "\tMacro F2-score Score:  0.2303355068388298\n",
      "\tMacro F0.5-score Score:  0.25212582859785077\n",
      "\n",
      "\n",
      "              precision    recall  f1-score   support\n",
      "\n",
      "           0       0.67      0.01      0.01       326\n",
      "           1       0.57      0.05      0.09       657\n",
      "           2       1.00      0.00      0.00       716\n",
      "           3       0.64      0.99      0.78      3948\n",
      "           4       0.49      0.16      0.24       773\n",
      "\n",
      "    accuracy                           0.63      6420\n",
      "   macro avg       0.67      0.24      0.23      6420\n",
      "weighted avg       0.66      0.63      0.52      6420\n",
      "\n"
     ]
    },
    {
     "data": {
      "text/plain": [
       "<Figure size 1008x576 with 0 Axes>"
      ]
     },
     "metadata": {},
     "output_type": "display_data"
    },
    {
     "data": {
      "image/png": "[encoded data removed]",
      "text/plain": [
       "<Figure size 432x288 with 2 Axes>"
      ]
     },
     "metadata": {
      "needs_background": "light"
     },
     "output_type": "display_data"
    }
   ],
   "source": [
    "svm = SVC(kernel='poly', random_state=54)\n",
    "svm.fit(X_train, y_train)\n",
    "y_pred_svm = svm.predict(X_test)\n",
    "\n",
    "# results\n",
    "print_model_experiment_results(\"SVM Single Classifier\", y_test, y_pred_svm)"
   ]
  },
  {
   "cell_type": "markdown",
   "id": "d378abec",
   "metadata": {},
   "source": [
    "## Logistic Regression"
   ]
  },
  {
   "cell_type": "code",
   "execution_count": 6,
   "id": "2edee484",
   "metadata": {},
   "outputs": [
    {
     "name": "stdout",
     "output_type": "stream",
     "text": [
      "\t\t==============================\n",
      "\t\tHASIl UJI COBA LOGISTIC REGRESSION SINGLE CLASSIFIER\n",
      "\t\t==============================\n",
      "\tAkurasi Score:  0.6242990654205608\n",
      "\tMacro Recall Score:  0.24007126861529904\n",
      "\tMacro Precision Score:  0.4070231791679279\n",
      "\tMacro F1-score Score:  0.2243971925224489\n",
      "\tMacro F2-score Score:  0.2291276949339207\n",
      "\tMacro F0.5-score Score:  0.24453543433132946\n",
      "\n",
      "\n",
      "              precision    recall  f1-score   support\n",
      "\n",
      "           0       0.13      0.01      0.02       326\n",
      "           1       0.38      0.06      0.10       657\n",
      "           2       0.50      0.00      0.01       716\n",
      "           3       0.64      0.97      0.77      3948\n",
      "           4       0.38      0.15      0.22       773\n",
      "\n",
      "    accuracy                           0.62      6420\n",
      "   macro avg       0.41      0.24      0.22      6420\n",
      "weighted avg       0.54      0.62      0.52      6420\n",
      "\n"
     ]
    },
    {
     "data": {
      "text/plain": [
       "<Figure size 1008x576 with 0 Axes>"
      ]
     },
     "metadata": {},
     "output_type": "display_data"
    },
    {
     "data": {
      "image/png": "[encoded data removed]",
      "text/plain": [
       "<Figure size 432x288 with 2 Axes>"
      ]
     },
     "metadata": {
      "needs_background": "light"
     },
     "output_type": "display_data"
    }
   ],
   "source": [
    "logreg = LogisticRegression(solver='saga', max_iter=400)\n",
    "logreg.fit(X_train, y_train)\n",
    "y_pred_logreg = logreg.predict(X_test)\n",
    "\n",
    "# results\n",
    "print_model_experiment_results(\"Logistic Regression Single Classifier\", y_test, y_pred_logreg)"
   ]
  },
  {
   "cell_type": "markdown",
   "id": "07538b36",
   "metadata": {},
   "source": [
    "## Naive Bayes"
   ]
  },
  {
   "cell_type": "code",
   "execution_count": 7,
   "id": "deda9bc6",
   "metadata": {},
   "outputs": [
    {
     "name": "stdout",
     "output_type": "stream",
     "text": [
      "\t\t==============================\n",
      "\t\tHASIl UJI COBA NAIVE BAYES SINGLE CLASSIFIER\n",
      "\t\t==============================\n",
      "\tAkurasi Score:  0.6151090342679127\n",
      "\tMacro Recall Score:  0.2005581694447914\n",
      "\tMacro Precision Score:  0.22303615960099749\n",
      "\tMacro F1-score Score:  0.1535452932325383\n",
      "\tMacro F2-score Score:  0.1784886248171474\n",
      "\tMacro F0.5-score Score:  0.13626232608401995\n",
      "\n",
      "\n",
      "              precision    recall  f1-score   support\n",
      "\n",
      "           0       0.00      0.00      0.00       326\n",
      "           1       0.50      0.00      0.01       657\n",
      "           2       0.00      0.00      0.00       716\n",
      "           3       0.62      1.00      0.76      3948\n",
      "           4       0.00      0.00      0.00       773\n",
      "\n",
      "    accuracy                           0.62      6420\n",
      "   macro avg       0.22      0.20      0.15      6420\n",
      "weighted avg       0.43      0.62      0.47      6420\n",
      "\n"
     ]
    },
    {
     "name": "stderr",
     "output_type": "stream",
     "text": [
      "C:\\Users\\ASUS\\anaconda3\\envs\\S2_computational_intelligence_ensemble_daun_singkong\\lib\\site-packages\\sklearn\\metrics\\_classification.py:1334: UndefinedMetricWarning: Precision is ill-defined and being set to 0.0 in labels with no predicted samples. Use `zero_division` parameter to control this behavior.\n",
      "  _warn_prf(average, modifier, msg_start, len(result))\n",
      "C:\\Users\\ASUS\\anaconda3\\envs\\S2_computational_intelligence_ensemble_daun_singkong\\lib\\site-packages\\sklearn\\metrics\\_classification.py:1334: UndefinedMetricWarning: Precision and F-score are ill-defined and being set to 0.0 in labels with no predicted samples. Use `zero_division` parameter to control this behavior.\n",
      "  _warn_prf(average, modifier, msg_start, len(result))\n",
      "C:\\Users\\ASUS\\anaconda3\\envs\\S2_computational_intelligence_ensemble_daun_singkong\\lib\\site-packages\\sklearn\\metrics\\_classification.py:1334: UndefinedMetricWarning: Precision and F-score are ill-defined and being set to 0.0 in labels with no predicted samples. Use `zero_division` parameter to control this behavior.\n",
      "  _warn_prf(average, modifier, msg_start, len(result))\n",
      "C:\\Users\\ASUS\\anaconda3\\envs\\S2_computational_intelligence_ensemble_daun_singkong\\lib\\site-packages\\sklearn\\metrics\\_classification.py:1334: UndefinedMetricWarning: Precision and F-score are ill-defined and being set to 0.0 in labels with no predicted samples. Use `zero_division` parameter to control this behavior.\n",
      "  _warn_prf(average, modifier, msg_start, len(result))\n"
     ]
    },
    {
     "data": {
      "text/plain": [
       "<Figure size 1008x576 with 0 Axes>"
      ]
     },
     "metadata": {},
     "output_type": "display_data"
    },
    {
     "data": {
      "image/png": "[encoded data removed]",
      "text/plain": [
       "<Figure size 432x288 with 2 Axes>"
      ]
     },
     "metadata": {
      "needs_background": "light"
     },
     "output_type": "display_data"
    }
   ],
   "source": [
    "naive_bayes = MultinomialNB()\n",
    "naive_bayes.fit(X_train, y_train)\n",
    "y_pred_naive_bayes = naive_bayes.predict(X_test)\n",
    "\n",
    "# results\n",
    "print_model_experiment_results(\"Naive Bayes Single Classifier\", y_test, y_pred_naive_bayes)"
   ]
  },
  {
   "cell_type": "markdown",
   "id": "3b396ea0",
   "metadata": {},
   "source": [
    "## Decision Tree"
   ]
  },
  {
   "cell_type": "code",
   "execution_count": 8,
   "id": "a70ba458",
   "metadata": {},
   "outputs": [
    {
     "name": "stdout",
     "output_type": "stream",
     "text": [
      "\t\t==============================\n",
      "\t\tHASIl UJI COBA DECISION TREE SINGLE CLASSIFIER\n",
      "\t\t==============================\n",
      "\tAkurasi Score:  0.6205607476635514\n",
      "\tMacro Recall Score:  0.24092334448650235\n",
      "\tMacro Precision Score:  0.2932964013785865\n",
      "\tMacro F1-score Score:  0.21466584693351187\n",
      "\tMacro F2-score Score:  0.22768246125031916\n",
      "\tMacro F0.5-score Score:  0.21183818542655092\n",
      "\n",
      "\n",
      "              precision    recall  f1-score   support\n",
      "\n",
      "           0       0.00      0.00      0.00       326\n",
      "           1       0.17      0.00      0.00       657\n",
      "           2       0.30      0.01      0.02       716\n",
      "           3       0.65      0.96      0.77      3948\n",
      "           4       0.35      0.23      0.28       773\n",
      "\n",
      "    accuracy                           0.62      6420\n",
      "   macro avg       0.29      0.24      0.21      6420\n",
      "weighted avg       0.49      0.62      0.51      6420\n",
      "\n"
     ]
    },
    {
     "name": "stderr",
     "output_type": "stream",
     "text": [
      "C:\\Users\\ASUS\\anaconda3\\envs\\S2_computational_intelligence_ensemble_daun_singkong\\lib\\site-packages\\sklearn\\metrics\\_classification.py:1334: UndefinedMetricWarning: Precision is ill-defined and being set to 0.0 in labels with no predicted samples. Use `zero_division` parameter to control this behavior.\n",
      "  _warn_prf(average, modifier, msg_start, len(result))\n",
      "C:\\Users\\ASUS\\anaconda3\\envs\\S2_computational_intelligence_ensemble_daun_singkong\\lib\\site-packages\\sklearn\\metrics\\_classification.py:1334: UndefinedMetricWarning: Precision and F-score are ill-defined and being set to 0.0 in labels with no predicted samples. Use `zero_division` parameter to control this behavior.\n",
      "  _warn_prf(average, modifier, msg_start, len(result))\n",
      "C:\\Users\\ASUS\\anaconda3\\envs\\S2_computational_intelligence_ensemble_daun_singkong\\lib\\site-packages\\sklearn\\metrics\\_classification.py:1334: UndefinedMetricWarning: Precision and F-score are ill-defined and being set to 0.0 in labels with no predicted samples. Use `zero_division` parameter to control this behavior.\n",
      "  _warn_prf(average, modifier, msg_start, len(result))\n",
      "C:\\Users\\ASUS\\anaconda3\\envs\\S2_computational_intelligence_ensemble_daun_singkong\\lib\\site-packages\\sklearn\\metrics\\_classification.py:1334: UndefinedMetricWarning: Precision and F-score are ill-defined and being set to 0.0 in labels with no predicted samples. Use `zero_division` parameter to control this behavior.\n",
      "  _warn_prf(average, modifier, msg_start, len(result))\n"
     ]
    },
    {
     "data": {
      "text/plain": [
       "<Figure size 1008x576 with 0 Axes>"
      ]
     },
     "metadata": {},
     "output_type": "display_data"
    },
    {
     "data": {
      "image/png": "[encoded data removed]",
      "text/plain": [
       "<Figure size 432x288 with 2 Axes>"
      ]
     },
     "metadata": {
      "needs_background": "light"
     },
     "output_type": "display_data"
    }
   ],
   "source": [
    "decision_tree = DecisionTreeClassifier(criterion='entropy', max_depth=5, min_samples_split=3)\n",
    "decision_tree.fit(X_train, y_train)\n",
    "y_pred_decision_tree = decision_tree.predict(X_test)\n",
    "\n",
    "# results\n",
    "print_model_experiment_results(\"Decision Tree Single Classifier\", y_test, y_pred_decision_tree)"
   ]
  },
  {
   "cell_type": "code",
   "execution_count": null,
   "id": "1a87fd13",
   "metadata": {},
   "outputs": [],
   "source": []
  }
 ],
 "metadata": {
  "kernelspec": {
   "display_name": "S2_computational_intelligence_ensemble_daun_singkong",
   "language": "python",
   "name": "s2_computational_intelligence_ensemble_daun_singkong"
  },
  "language_info": {
   "codemirror_mode": {
    "name": "ipython",
    "version": 3
   },
   "file_extension": ".py",
   "mimetype": "text/x-python",
   "name": "python",
   "nbconvert_exporter": "python",
   "pygments_lexer": "ipython3",
   "version": "3.10.4"
  },
  "toc": {
   "base_numbering": 1,
   "nav_menu": {},
   "number_sections": true,
   "sideBar": true,
   "skip_h1_title": false,
   "title_cell": "Table of Contents",
   "title_sidebar": "Contents",
   "toc_cell": false,
   "toc_position": {
    "height": "calc(100% - 180px)",
    "left": "10px",
    "top": "150px",
    "width": "320px"
   },
   "toc_section_display": true,
   "toc_window_display": true
  }
 },
 "nbformat": 4,
 "nbformat_minor": 5
}
